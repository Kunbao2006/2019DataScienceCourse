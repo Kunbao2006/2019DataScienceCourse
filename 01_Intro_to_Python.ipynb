{
  "nbformat": 4,
  "nbformat_minor": 0,
  "metadata": {
    "kernelspec": {
      "display_name": "Python 3",
      "language": "python",
      "name": "python3"
    },
    "language_info": {
      "codemirror_mode": {
        "name": "ipython",
        "version": 3
      },
      "file_extension": ".py",
      "mimetype": "text/x-python",
      "name": "python",
      "nbconvert_exporter": "python",
      "pygments_lexer": "ipython3",
      "version": "3.6.3"
    },
    "colab": {
      "name": "01 Intro to Python.ipynb",
      "provenance": [],
      "collapsed_sections": [],
      "include_colab_link": true
    }
  },
  "cells": [
    {
      "cell_type": "markdown",
      "metadata": {
        "id": "view-in-github",
        "colab_type": "text"
      },
      "source": [
        "<a href=\"https://colab.research.google.com/github/Kunbao2006/2019DataScienceCourse/blob/master/01_Intro_to_Python.ipynb\" target=\"_parent\"><img src=\"https://colab.research.google.com/assets/colab-badge.svg\" alt=\"Open In Colab\"/></a>"
      ]
    },
    {
      "cell_type": "markdown",
      "metadata": {
        "id": "-sdEzcTxcejS",
        "colab_type": "text"
      },
      "source": [
        "# Intro to Python\n",
        "\n",
        "In this notebook, we'll do some very basic Python to get you warmed up with programming. Experienced coders can try the exercises the end of each section, or if you already know intro Python, move ahead to the next notebook."
      ]
    },
    {
      "cell_type": "markdown",
      "metadata": {
        "id": "R4qhmu8PcejT",
        "colab_type": "text"
      },
      "source": [
        "## Variables\n",
        "\n",
        "Variables are used to store data. In Python, we use `=` to *assign* data from the right item, to the variable name in the left item. For example:"
      ]
    },
    {
      "cell_type": "code",
      "metadata": {
        "id": "6B_thJ5McejU",
        "colab_type": "code",
        "colab": {}
      },
      "source": [
        ""
      ],
      "execution_count": 0,
      "outputs": []
    },
    {
      "cell_type": "markdown",
      "metadata": {
        "id": "dHHBGWzEcejX",
        "colab_type": "text"
      },
      "source": [
        "Start your variables with letters--you can't use numbers, so `3banana` is not a valid variable name. For variables with many words, use underscores: `three_banana` or camel case: `threeBanana`."
      ]
    },
    {
      "cell_type": "markdown",
      "metadata": {
        "id": "NQ_usIEwcejX",
        "colab_type": "text"
      },
      "source": [
        "## Printing\n",
        "\n",
        "Use `print` to send information from your code to the results bar, underneath the cell."
      ]
    },
    {
      "cell_type": "code",
      "metadata": {
        "id": "RKHBXeImcejY",
        "colab_type": "code",
        "colab": {}
      },
      "source": [
        ""
      ],
      "execution_count": 0,
      "outputs": []
    },
    {
      "cell_type": "code",
      "metadata": {
        "id": "l_mEvTDdceja",
        "colab_type": "code",
        "colab": {}
      },
      "source": [
        ""
      ],
      "execution_count": 0,
      "outputs": []
    },
    {
      "cell_type": "code",
      "metadata": {
        "id": "HPHlS9DCcejc",
        "colab_type": "code",
        "colab": {}
      },
      "source": [
        ""
      ],
      "execution_count": 0,
      "outputs": []
    },
    {
      "cell_type": "markdown",
      "metadata": {
        "id": "TnWWUbUpceje",
        "colab_type": "text"
      },
      "source": [
        "## Operators\n",
        "\n",
        "You can do math in Python! It's like a really expensive (and clunky) calculator."
      ]
    },
    {
      "cell_type": "code",
      "metadata": {
        "id": "RG-fDAjMceje",
        "colab_type": "code",
        "colab": {}
      },
      "source": [
        ""
      ],
      "execution_count": 0,
      "outputs": []
    },
    {
      "cell_type": "code",
      "metadata": {
        "id": "znCBZt_1cejh",
        "colab_type": "code",
        "colab": {}
      },
      "source": [
        ""
      ],
      "execution_count": 0,
      "outputs": []
    },
    {
      "cell_type": "code",
      "metadata": {
        "id": "P0A3Q54Icejj",
        "colab_type": "code",
        "colab": {}
      },
      "source": [
        ""
      ],
      "execution_count": 0,
      "outputs": []
    },
    {
      "cell_type": "code",
      "metadata": {
        "id": "Sk2AI3rucejm",
        "colab_type": "code",
        "colab": {}
      },
      "source": [
        ""
      ],
      "execution_count": 0,
      "outputs": []
    },
    {
      "cell_type": "code",
      "metadata": {
        "id": "cZxITSEwcejo",
        "colab_type": "code",
        "colab": {}
      },
      "source": [
        ""
      ],
      "execution_count": 0,
      "outputs": []
    },
    {
      "cell_type": "code",
      "metadata": {
        "id": "EndPX3becejq",
        "colab_type": "code",
        "colab": {}
      },
      "source": [
        ""
      ],
      "execution_count": 0,
      "outputs": []
    },
    {
      "cell_type": "code",
      "metadata": {
        "id": "7pXL0917cejs",
        "colab_type": "code",
        "colab": {}
      },
      "source": [
        ""
      ],
      "execution_count": 0,
      "outputs": []
    },
    {
      "cell_type": "markdown",
      "metadata": {
        "id": "YOUfB6BVceju",
        "colab_type": "text"
      },
      "source": [
        "## Types\n",
        "\n",
        "Variables have **types**, of which you've seen three: **int**s (integers, whole numbers), **float**s (decimal numbers), and **str**s (strings of text, with inverted commas around them--single or double inverted commas are fine, as long as you're consistent). "
      ]
    },
    {
      "cell_type": "code",
      "metadata": {
        "id": "p_BAZe-Vcejv",
        "colab_type": "code",
        "colab": {}
      },
      "source": [
        ""
      ],
      "execution_count": 0,
      "outputs": []
    },
    {
      "cell_type": "code",
      "metadata": {
        "id": "oKcHzRkmcejy",
        "colab_type": "code",
        "colab": {}
      },
      "source": [
        ""
      ],
      "execution_count": 0,
      "outputs": []
    },
    {
      "cell_type": "code",
      "metadata": {
        "id": "QJKlf0dycej0",
        "colab_type": "code",
        "colab": {}
      },
      "source": [
        ""
      ],
      "execution_count": 0,
      "outputs": []
    },
    {
      "cell_type": "markdown",
      "metadata": {
        "id": "GEQ-zlbucej4",
        "colab_type": "text"
      },
      "source": [
        "### <font color=\"red\">Exercise 1A: More operators</font>\n",
        "\n",
        "Why stop at four when we have more? Try to `print` these out, and write comments (with `#` in front) to say what they do."
      ]
    },
    {
      "cell_type": "code",
      "metadata": {
        "id": "t2agZVAhcej4",
        "colab_type": "code",
        "colab": {
          "base_uri": "https://localhost:8080/",
          "height": 70
        },
        "outputId": "c7f3950e-47ad-4260-c3a8-9d9c76655637"
      },
      "source": [
        "# a to the times of b\n",
        "a = 5 ** 2\n",
        "b = 3 ** 3\n",
        "c = 4 ** 5\n",
        "print(a, b, c)\n",
        "\n",
        "# floor Division - divides and returns the integer value of the quotient\n",
        "d = 15 // 12\n",
        "e = 12 // 15\n",
        "f = 200 // 50\n",
        "g = 200 // 51\n",
        "print (d, e, f, g)\n",
        "\n",
        "# remainder\n",
        "h = 6 % 2\n",
        "i_need_better_variable_names = 5 % 2\n",
        "j = 9 % 5\n",
        "k = 6 % 6\n",
        "l = 0 % 7\n",
        "\n",
        "print (h, i_need_better_variable_names, j, k, l)"
      ],
      "execution_count": 100,
      "outputs": [
        {
          "output_type": "stream",
          "text": [
            "25 27 1024\n",
            "1 0 4 3\n",
            "0 1 4 0 0\n"
          ],
          "name": "stdout"
        }
      ]
    },
    {
      "cell_type": "markdown",
      "metadata": {
        "id": "OV18amawcej7",
        "colab_type": "text"
      },
      "source": [
        "### <font color=\"red\">Exercise 1B: Calculate and print\n",
        "\n",
        "What if I want to calculate the age of someone who's 3x my age?\n",
        "\n",
        "Edit the variables below, and print: \"3 times my age is 108\"."
      ]
    },
    {
      "cell_type": "code",
      "metadata": {
        "id": "y4MHWF7bcej7",
        "colab_type": "code",
        "colab": {
          "base_uri": "https://localhost:8080/",
          "height": 52
        },
        "outputId": "dd8501a7-bfdc-47cc-a833-c8579ea87ef9"
      },
      "source": [
        "age = 13\n",
        "n = 6\n",
        "x3age = age * n\n",
        "print(n,\"times my age is\",x3age,\"years old.\")\n"
      ],
      "execution_count": 107,
      "outputs": [
        {
          "output_type": "stream",
          "text": [
            "6 times my age is 78 years old.\n",
            "hu\n"
          ],
          "name": "stdout"
        }
      ]
    },
    {
      "cell_type": "markdown",
      "metadata": {
        "id": "WKeC5V3zcej9",
        "colab_type": "text"
      },
      "source": [
        "### <font color=\"red\">Exercise 1C: Seconds in a year\n",
        "\n",
        "Let's use Python as a glorified calculator again. Below is some code to help you get started--can you figure out how many seconds there are in a year? "
      ]
    },
    {
      "cell_type": "code",
      "metadata": {
        "id": "dnPlC9VDcej-",
        "colab_type": "code",
        "colab": {
          "base_uri": "https://localhost:8080/",
          "height": 34
        },
        "outputId": "11999573-fdae-4a3b-bdf1-f29aaa0aa0ce"
      },
      "source": [
        "num_seconds_in_minute = 60\n",
        "num_minutes_in_hour = 60 \n",
        "num_hours_in_day = 24 \n",
        "num_days_in_year = 365 \n",
        "total = num_seconds_in_minute * num_minutes_in_hour * num_hours_in_day * num_days_in_year\n",
        "print(\"The number of seconds in a year is\",str(total)+\".\")"
      ],
      "execution_count": 109,
      "outputs": [
        {
          "output_type": "stream",
          "text": [
            "The number of seconds in a year is 31536000.\n"
          ],
          "name": "stdout"
        }
      ]
    },
    {
      "cell_type": "markdown",
      "metadata": {
        "id": "KX5P4eKmcekA",
        "colab_type": "text"
      },
      "source": [
        "### <font color=\"red\">Exercise 1D: Pixels\n",
        "\n",
        "You are given the width and height of a screen in pixels. Calculate the total number of pixels on the screen and store them in a variable called `numberOfPixels`."
      ]
    },
    {
      "cell_type": "code",
      "metadata": {
        "id": "OcV6P-3pcekC",
        "colab_type": "code",
        "colab": {
          "base_uri": "https://localhost:8080/",
          "height": 70
        },
        "outputId": "3ef8fa6d-73ea-466a-8a71-caf1ea6d48ad"
      },
      "source": [
        "height = 1920\n",
        "width = 1080\n",
        "\n",
        "# Your code here\n",
        "numberOfPixels = height*width\n",
        "# Some code to print out the results\n",
        "print(\"For a screen with height\", height, \"pixels\")\n",
        "print(\"And width\", width, \"pixels\")\n",
        "print(\"The total number of pixels is\", str(numberOfPixels)+\".\")"
      ],
      "execution_count": 110,
      "outputs": [
        {
          "output_type": "stream",
          "text": [
            "For a screen with height 1920 pixels\n",
            "And width 1080 pixels\n",
            "The total number of pixels is 2073600.\n"
          ],
          "name": "stdout"
        }
      ]
    },
    {
      "cell_type": "markdown",
      "metadata": {
        "id": "HYZIOdVHcekJ",
        "colab_type": "text"
      },
      "source": [
        "### <font color=\"red\">Exercise 1E: Boys and girls\n",
        "\n",
        "Calculate the percentage of boys (`percentBoys`) and the percentage of girls (`percentGirls`) in a class, and print it out."
      ]
    },
    {
      "cell_type": "code",
      "metadata": {
        "id": "-LWPcZFkcekK",
        "colab_type": "code",
        "colab": {
          "base_uri": "https://localhost:8080/",
          "height": 34
        },
        "outputId": "4c554622-357d-4ac5-bd3b-faf4562e0059"
      },
      "source": [
        "numberOfBoys = 60\n",
        "numberOfGirls = 20\n",
        "\n",
        "# Your code here\n",
        "totalPeople = numberOfBoys + numberOfGirls\n",
        "pBoys = numberOfBoys/totalPeople\n",
        "\n",
        "pGirls = numberOfGirls/totalPeople\n",
        "\n",
        "print (\"The percentage of boys is \"+str(int(pBoys*100))+\"% and the percentage of girls is \"+str(int(pGirls*100))+\"%.\")"
      ],
      "execution_count": 111,
      "outputs": [
        {
          "output_type": "stream",
          "text": [
            "The percentage of boys is 75% and the percentage of girls is 25%.\n"
          ],
          "name": "stdout"
        }
      ]
    },
    {
      "cell_type": "markdown",
      "metadata": {
        "id": "XJALPuI1cekO",
        "colab_type": "text"
      },
      "source": [
        "<hr>"
      ]
    },
    {
      "cell_type": "markdown",
      "metadata": {
        "id": "qqkn9MTncekP",
        "colab_type": "text"
      },
      "source": [
        "## Functions"
      ]
    },
    {
      "cell_type": "markdown",
      "metadata": {
        "id": "EpT50sC_cekT",
        "colab_type": "text"
      },
      "source": [
        "**A** function is a piece of reusable code that lets you run it again and again, but possibly with different parameters. Try running this function below with some different parameters:"
      ]
    },
    {
      "cell_type": "code",
      "metadata": {
        "id": "Fizdg4fFcekU",
        "colab_type": "code",
        "colab": {}
      },
      "source": [
        ""
      ],
      "execution_count": 0,
      "outputs": []
    },
    {
      "cell_type": "code",
      "metadata": {
        "id": "yOYaW2nLcekY",
        "colab_type": "code",
        "colab": {}
      },
      "source": [
        ""
      ],
      "execution_count": 0,
      "outputs": []
    },
    {
      "cell_type": "code",
      "metadata": {
        "id": "1DQWoGx5ceke",
        "colab_type": "code",
        "colab": {}
      },
      "source": [
        ""
      ],
      "execution_count": 0,
      "outputs": []
    },
    {
      "cell_type": "markdown",
      "metadata": {
        "id": "5jdvXN3Pcekg",
        "colab_type": "text"
      },
      "source": [
        "There are some useful built-in functions, too! You've been using `print`, a function that prints things out. Let's now use it to print the results of other functions:"
      ]
    },
    {
      "cell_type": "code",
      "metadata": {
        "id": "av8Y5oiBceki",
        "colab_type": "code",
        "colab": {}
      },
      "source": [
        ""
      ],
      "execution_count": 0,
      "outputs": []
    },
    {
      "cell_type": "code",
      "metadata": {
        "id": "lagBwIUOcekk",
        "colab_type": "code",
        "colab": {}
      },
      "source": [
        ""
      ],
      "execution_count": 0,
      "outputs": []
    },
    {
      "cell_type": "code",
      "metadata": {
        "id": "yIRofpfUcekl",
        "colab_type": "code",
        "colab": {}
      },
      "source": [
        ""
      ],
      "execution_count": 0,
      "outputs": []
    },
    {
      "cell_type": "code",
      "metadata": {
        "id": "32h1ru0sceko",
        "colab_type": "code",
        "colab": {}
      },
      "source": [
        ""
      ],
      "execution_count": 0,
      "outputs": []
    },
    {
      "cell_type": "code",
      "metadata": {
        "id": "RYpQe20kcekq",
        "colab_type": "code",
        "colab": {}
      },
      "source": [
        ""
      ],
      "execution_count": 0,
      "outputs": []
    },
    {
      "cell_type": "code",
      "metadata": {
        "id": "RPZPUOyvcekt",
        "colab_type": "code",
        "colab": {}
      },
      "source": [
        ""
      ],
      "execution_count": 0,
      "outputs": []
    },
    {
      "cell_type": "markdown",
      "metadata": {
        "id": "QMZmBg7Mcekv",
        "colab_type": "text"
      },
      "source": [
        "Some functions are in _modules_, e.g. the `math` module. To get started, you have to first `import math`, then try the functions within. Here is some gratuitious trigonometry:"
      ]
    },
    {
      "cell_type": "code",
      "metadata": {
        "id": "eXLXDftLcekw",
        "colab_type": "code",
        "colab": {}
      },
      "source": [
        ""
      ],
      "execution_count": 0,
      "outputs": []
    },
    {
      "cell_type": "code",
      "metadata": {
        "id": "CB_617d3cek7",
        "colab_type": "code",
        "colab": {}
      },
      "source": [
        ""
      ],
      "execution_count": 0,
      "outputs": []
    },
    {
      "cell_type": "code",
      "metadata": {
        "id": "-LmCgY1vcek-",
        "colab_type": "code",
        "colab": {}
      },
      "source": [
        ""
      ],
      "execution_count": 0,
      "outputs": []
    },
    {
      "cell_type": "code",
      "metadata": {
        "id": "G8jNnTMfcelA",
        "colab_type": "code",
        "colab": {}
      },
      "source": [
        ""
      ],
      "execution_count": 0,
      "outputs": []
    },
    {
      "cell_type": "code",
      "metadata": {
        "id": "pIOXv6oLcelC",
        "colab_type": "code",
        "colab": {}
      },
      "source": [
        ""
      ],
      "execution_count": 0,
      "outputs": []
    },
    {
      "cell_type": "markdown",
      "metadata": {
        "id": "sUwuM7zhcelF",
        "colab_type": "text"
      },
      "source": [
        "### <font color=\"red\">Exercise 2A: Errors\n",
        "\n",
        "If you make a typo, Python will give you an error. Some may look cryptic, but you can try to figure out what they're telling you based on the line of the error. Try running the below, and identifying the errors in the code."
      ]
    },
    {
      "cell_type": "code",
      "metadata": {
        "id": "BlTPuXLwcelF",
        "colab_type": "code",
        "colab": {
          "base_uri": "https://localhost:8080/",
          "height": 132
        },
        "outputId": "306857b7-6c23-456d-c391-45b90e9adaf3"
      },
      "source": [
        "name = \"Banana"
      ],
      "execution_count": 112,
      "outputs": [
        {
          "output_type": "error",
          "ename": "SyntaxError",
          "evalue": "ignored",
          "traceback": [
            "\u001b[0;36m  File \u001b[0;32m\"<ipython-input-112-5f212731f709>\"\u001b[0;36m, line \u001b[0;32m1\u001b[0m\n\u001b[0;31m    name = \"Banana\u001b[0m\n\u001b[0m                  ^\u001b[0m\n\u001b[0;31mSyntaxError\u001b[0m\u001b[0;31m:\u001b[0m EOL while scanning string literal\n"
          ]
        }
      ]
    },
    {
      "cell_type": "code",
      "metadata": {
        "id": "sHJLSqGCcelH",
        "colab_type": "code",
        "colab": {}
      },
      "source": [
        "age = 55\n",
        "weeks_lived = age * weeksPerYear"
      ],
      "execution_count": 0,
      "outputs": []
    },
    {
      "cell_type": "code",
      "metadata": {
        "id": "AR3DzOvccelL",
        "colab_type": "code",
        "colab": {}
      },
      "source": [
        "pront(\"Hello\")"
      ],
      "execution_count": 0,
      "outputs": []
    },
    {
      "cell_type": "markdown",
      "metadata": {
        "id": "Z9rLEDm0celO",
        "colab_type": "text"
      },
      "source": [
        "### <font color=\"red\">Exercise 2B: Cube\n",
        "\n",
        "Write a function, `cube(n)`, that takes in a number, `n`, and prints out the cubed result."
      ]
    },
    {
      "cell_type": "code",
      "metadata": {
        "id": "K1c-6A5vcelS",
        "colab_type": "code",
        "colab": {
          "base_uri": "https://localhost:8080/",
          "height": 34
        },
        "outputId": "ec5c18ae-369a-46bd-db5d-766e46effa73"
      },
      "source": [
        "def cube(n):\n",
        "    result =n ** 3  # FIXME\n",
        "    return result\n",
        "\n",
        "print(cube(3)) # this line is to test your code"
      ],
      "execution_count": 113,
      "outputs": [
        {
          "output_type": "stream",
          "text": [
            "27\n"
          ],
          "name": "stdout"
        }
      ]
    },
    {
      "cell_type": "markdown",
      "metadata": {
        "id": "LzLF7Mb-celU",
        "colab_type": "text"
      },
      "source": [
        "### <font color=\"red\">Exercise 2C: Using functions\n",
        "\n",
        "Before running the code below, try predicting what each `print` statement will tell you. Can you explain what's going on with the third `max` function call, between `rich` and `poor`? "
      ]
    },
    {
      "cell_type": "code",
      "metadata": {
        "id": "EqS9Ek59celV",
        "colab_type": "code",
        "colab": {
          "base_uri": "https://localhost:8080/",
          "height": 34
        },
        "outputId": "d823bdb4-1331-473a-828d-747226026402"
      },
      "source": [
        "a_string = \"abc\"\n",
        "print(max(a_string))"
      ],
      "execution_count": 96,
      "outputs": [
        {
          "output_type": "stream",
          "text": [
            "c\n"
          ],
          "name": "stdout"
        }
      ]
    },
    {
      "cell_type": "code",
      "metadata": {
        "id": "7yHr628KcelW",
        "colab_type": "code",
        "colab": {
          "base_uri": "https://localhost:8080/",
          "height": 34
        },
        "outputId": "042b530a-311c-464d-87f5-ecd24f410dfe"
      },
      "source": [
        "rich = \"gold\"\n",
        "poor = \"tin\"\n",
        "print(max(len(rich), len(poor)))"
      ],
      "execution_count": 97,
      "outputs": [
        {
          "output_type": "stream",
          "text": [
            "4\n"
          ],
          "name": "stdout"
        }
      ]
    },
    {
      "cell_type": "code",
      "metadata": {
        "id": "RkhNhqlhcelc",
        "colab_type": "code",
        "colab": {
          "base_uri": "https://localhost:8080/",
          "height": 34
        },
        "outputId": "d5e70b8d-c083-4026-afb5-9b69cda63ff4"
      },
      "source": [
        "print(max(rich, poor))"
      ],
      "execution_count": 114,
      "outputs": [
        {
          "output_type": "stream",
          "text": [
            "tin\n"
          ],
          "name": "stdout"
        }
      ]
    },
    {
      "cell_type": "markdown",
      "metadata": {
        "id": "0-62NlaVcel-",
        "colab_type": "text"
      },
      "source": [
        "<hr>"
      ]
    },
    {
      "cell_type": "markdown",
      "metadata": {
        "id": "A0fcfx1xcemC",
        "colab_type": "text"
      },
      "source": [
        "## Lists\n",
        "\n",
        "So far, we've stored information in single variables. This would be unwieldy if we're dealing with a lot of data, e.g. weather readings over a year--imagine declaring variables `rainfall1`, `rainfall2`, `rainfall3`, etc.\n",
        "\n",
        "We're going to introduce **lists** here--a way to store multiple pieces of data in one variable. The first list here is a list of pressure values, defined within square brackets `[]`, separated by commas:"
      ]
    },
    {
      "cell_type": "code",
      "metadata": {
        "id": "K2zToQkLcemD",
        "colab_type": "code",
        "colab": {}
      },
      "source": [
        ""
      ],
      "execution_count": 0,
      "outputs": []
    },
    {
      "cell_type": "code",
      "metadata": {
        "id": "ziiMapxBcemI",
        "colab_type": "code",
        "colab": {}
      },
      "source": [
        ""
      ],
      "execution_count": 0,
      "outputs": []
    },
    {
      "cell_type": "code",
      "metadata": {
        "id": "foFFVEeTcemN",
        "colab_type": "code",
        "colab": {}
      },
      "source": [
        ""
      ],
      "execution_count": 0,
      "outputs": []
    },
    {
      "cell_type": "markdown",
      "metadata": {
        "id": "x3rQs2pecemP",
        "colab_type": "text"
      },
      "source": [
        "You can also access individual elements in a list, by using the **square bracket notation** -- add a square bracket after your variable name, then have a number in it with the **index** of the element you want to access. Computer scientists count from 0, so if you want the first item, it's at index 0; second item is at index 1. "
      ]
    },
    {
      "cell_type": "code",
      "metadata": {
        "id": "mmTZ1DvicemQ",
        "colab_type": "code",
        "colab": {}
      },
      "source": [
        ""
      ],
      "execution_count": 0,
      "outputs": []
    },
    {
      "cell_type": "code",
      "metadata": {
        "id": "B9nVD0ltcemS",
        "colab_type": "code",
        "colab": {}
      },
      "source": [
        ""
      ],
      "execution_count": 0,
      "outputs": []
    },
    {
      "cell_type": "code",
      "metadata": {
        "id": "dRq83g7ycemU",
        "colab_type": "code",
        "colab": {}
      },
      "source": [
        ""
      ],
      "execution_count": 0,
      "outputs": []
    },
    {
      "cell_type": "markdown",
      "metadata": {
        "id": "Bs8dGgalcemW",
        "colab_type": "text"
      },
      "source": [
        "There are some list functions you can use. How do you find out about them? [Search](https://encrypted.google.com/search?q=python+list+functions)!"
      ]
    },
    {
      "cell_type": "code",
      "metadata": {
        "id": "MsYiZAUEcemY",
        "colab_type": "code",
        "colab": {}
      },
      "source": [
        ""
      ],
      "execution_count": 0,
      "outputs": []
    },
    {
      "cell_type": "code",
      "metadata": {
        "id": "QPSbUOQbcemZ",
        "colab_type": "code",
        "colab": {}
      },
      "source": [
        ""
      ],
      "execution_count": 0,
      "outputs": []
    },
    {
      "cell_type": "code",
      "metadata": {
        "id": "Jrlx-BRycema",
        "colab_type": "code",
        "colab": {}
      },
      "source": [
        ""
      ],
      "execution_count": 0,
      "outputs": []
    },
    {
      "cell_type": "code",
      "metadata": {
        "id": "VLCzPpgvcemc",
        "colab_type": "code",
        "colab": {}
      },
      "source": [
        ""
      ],
      "execution_count": 0,
      "outputs": []
    },
    {
      "cell_type": "markdown",
      "metadata": {
        "id": "m6966Dvbceme",
        "colab_type": "text"
      },
      "source": [
        "Here's something you can do with lists: **slice** them using the slice operator, a colon. Instead of providing a single number in the index, get back part of the list by providing a range of numbers, for example:"
      ]
    },
    {
      "cell_type": "code",
      "metadata": {
        "id": "bDbuwlY-ceme",
        "colab_type": "code",
        "colab": {}
      },
      "source": [
        ""
      ],
      "execution_count": 0,
      "outputs": []
    },
    {
      "cell_type": "markdown",
      "metadata": {
        "id": "T-RJ1PZvcemg",
        "colab_type": "text"
      },
      "source": [
        "### <font color=\"red\">Exercise 3A: I got a list, here's the order of my list that it's in\n",
        "\n",
        "Here's a list. Can you do the following manipulations to it? \n",
        "\n",
        "* Append “apple” and 76 to the list.\n",
        "* Insert the value “cat” at index 3.\n",
        "* Insert the value 99 at the start of the list.\n",
        "* Find the index of “hello”.\n",
        "* Count the number of 76s in the list.\n",
        "* Remove the first occurrence of 76 from the list.\n",
        "\n",
        "Print out your final list to check your answer."
      ]
    },
    {
      "cell_type": "code",
      "metadata": {
        "id": "IGkf0A6Rcemg",
        "colab_type": "code",
        "colab": {
          "base_uri": "https://localhost:8080/",
          "height": 141
        },
        "outputId": "01cb67ba-39b5-47e1-8be8-153fe2666696"
      },
      "source": [
        "myList = [76, 92.3, 'hello', True, 4, 76]\n",
        "\n",
        "print(\"Original list:\", myList)\n",
        "\n",
        "#1st task\n",
        "myList.append(\"apple\")\n",
        "myList.append(76)\n",
        "\n",
        "print (\"1.\", myList)\n",
        "\n",
        "#2nd task\n",
        "myList.insert(2,\"cat\")\n",
        "\n",
        "print (\"2.\", myList)\n",
        "\n",
        "#3rd task\n",
        "myList.insert(0,99)\n",
        "\n",
        "print (\"3.\", myList)\n",
        "\n",
        "#4th task\n",
        "print(\"4.\", myList.index(\"hello\"))\n",
        "\n",
        "#5th task\n",
        "noOf76 = 0\n",
        "for i in myList:\n",
        "  if i == 76:\n",
        "    noOf76 += 1\n",
        "\n",
        "print (\"5.\", noOf76)\n",
        "\n",
        "#6th task\n",
        "myList.remove(76)\n",
        "\n",
        "print (\"6.\", myList)"
      ],
      "execution_count": 95,
      "outputs": [
        {
          "output_type": "stream",
          "text": [
            "Original list: [76, 92.3, 'hello', True, 4, 76]\n",
            "1. [76, 92.3, 'hello', True, 4, 76, 'apple', 76]\n",
            "2. [76, 92.3, 'cat', 'hello', True, 4, 76, 'apple', 76]\n",
            "3. [99, 76, 92.3, 'cat', 'hello', True, 4, 76, 'apple', 76]\n",
            "4. 4\n",
            "5. 3\n",
            "6. [99, 92.3, 'cat', 'hello', True, 4, 76, 'apple', 76]\n"
          ],
          "name": "stdout"
        }
      ]
    },
    {
      "cell_type": "code",
      "metadata": {
        "id": "rc_6O6mHcemh",
        "colab_type": "code",
        "colab": {}
      },
      "source": [
        "\n"
      ],
      "execution_count": 0,
      "outputs": []
    },
    {
      "cell_type": "markdown",
      "metadata": {
        "id": "Mfq49c1Gcemj",
        "colab_type": "text"
      },
      "source": [
        "### <font color=\"red\">Exercise 3B: Fill in the blanks\n",
        "\n",
        "Fill in the blanks so that the program below produces the output shown:"
      ]
    },
    {
      "cell_type": "markdown",
      "metadata": {
        "id": "bxkyqvQZcemj",
        "colab_type": "raw"
      },
      "source": [
        "first time: [1, 3, 5]\n",
        "second time: [3, 5]"
      ]
    },
    {
      "cell_type": "code",
      "metadata": {
        "id": "3I85PPoqcemj",
        "colab_type": "code",
        "colab": {
          "base_uri": "https://localhost:8080/",
          "height": 52
        },
        "outputId": "81702d83-b8a3-4b13-e269-1dbc727cd64b"
      },
      "source": [
        "values = []\n",
        "values.append(1)  #hint: we need to add values to the list somehow!\n",
        "values.append(3)\n",
        "values.append(5)\n",
        "print('first time:', values)\n",
        "values.remove(values[0])  #hint: use list slicing!\n",
        "print('second time:', values)"
      ],
      "execution_count": 92,
      "outputs": [
        {
          "output_type": "stream",
          "text": [
            "first time: [1, 3, 5]\n",
            "second time: [3, 5]\n"
          ],
          "name": "stdout"
        }
      ]
    },
    {
      "cell_type": "markdown",
      "metadata": {
        "id": "j6YMT5qrcemo",
        "colab_type": "text"
      },
      "source": [
        "<hr>"
      ]
    },
    {
      "cell_type": "markdown",
      "metadata": {
        "id": "UbiX-4secemo",
        "colab_type": "text"
      },
      "source": [
        "## Loops\n",
        "\n",
        "Now that we have lists, we want to be able to work on the data within them at one swoop, i.e. not have to edit `item[0]`, `item[1]`, `item[2]` one by one. For this, we can use a loop. \n",
        "\n",
        "A loop starts with `for`, ends with a colon, and subsequent lines are indented:"
      ]
    },
    {
      "cell_type": "code",
      "metadata": {
        "id": "wAsOHBZncemp",
        "colab_type": "code",
        "colab": {
          "base_uri": "https://localhost:8080/",
          "height": 141
        },
        "outputId": "bdd50273-57cf-41c0-e3ee-72abf033791a"
      },
      "source": [
        "for i in range(50,1000,156): # range(start, stop, step (jump))\n",
        "  print (i)"
      ],
      "execution_count": 120,
      "outputs": [
        {
          "output_type": "stream",
          "text": [
            "50\n",
            "206\n",
            "362\n",
            "518\n",
            "674\n",
            "830\n",
            "986\n"
          ],
          "name": "stdout"
        }
      ]
    },
    {
      "cell_type": "code",
      "metadata": {
        "id": "Yu4HeqAtcemq",
        "colab_type": "code",
        "colab": {}
      },
      "source": [
        ""
      ],
      "execution_count": 0,
      "outputs": []
    },
    {
      "cell_type": "code",
      "metadata": {
        "id": "Xc87gX-Jcemt",
        "colab_type": "code",
        "colab": {}
      },
      "source": [
        ""
      ],
      "execution_count": 0,
      "outputs": []
    },
    {
      "cell_type": "code",
      "metadata": {
        "id": "ZH27yBXDcemw",
        "colab_type": "code",
        "colab": {}
      },
      "source": [
        ""
      ],
      "execution_count": 0,
      "outputs": []
    },
    {
      "cell_type": "code",
      "metadata": {
        "id": "68oRo901cemy",
        "colab_type": "code",
        "colab": {}
      },
      "source": [
        ""
      ],
      "execution_count": 0,
      "outputs": []
    },
    {
      "cell_type": "code",
      "metadata": {
        "id": "e4XJNRfvcemz",
        "colab_type": "code",
        "colab": {}
      },
      "source": [
        ""
      ],
      "execution_count": 0,
      "outputs": []
    },
    {
      "cell_type": "markdown",
      "metadata": {
        "id": "MzMZfTwmcem1",
        "colab_type": "text"
      },
      "source": [
        "### <font color=\"red\">Exercise 4A: Multiply everything\n",
        "\n",
        "Given a list of values, print out 2x of everything. E.g. [1, 2, 3] will print out"
      ]
    },
    {
      "cell_type": "markdown",
      "metadata": {
        "id": "A06dJDoFcem2",
        "colab_type": "raw"
      },
      "source": [
        "2\n",
        "4\n",
        "6"
      ]
    },
    {
      "cell_type": "code",
      "metadata": {
        "id": "Wc6PkYEgcem2",
        "colab_type": "code",
        "colab": {
          "base_uri": "https://localhost:8080/",
          "height": 87
        },
        "outputId": "c4cadc98-45e1-4cf8-c982-69b82161331d"
      },
      "source": [
        "values = [1,2,3,4]\n",
        "\n",
        "for i in values:\n",
        "    print(2*i)"
      ],
      "execution_count": 91,
      "outputs": [
        {
          "output_type": "stream",
          "text": [
            "2\n",
            "4\n",
            "6\n",
            "8\n"
          ],
          "name": "stdout"
        }
      ]
    },
    {
      "cell_type": "markdown",
      "metadata": {
        "id": "-WrZim_Ocem5",
        "colab_type": "text"
      },
      "source": [
        "### <font color=\"red\">Exercise 4B: Square everything\n",
        "\n",
        "Given a list of values, print out the square of everything. E.g. [1, 2, 3] will print out"
      ]
    },
    {
      "cell_type": "markdown",
      "metadata": {
        "id": "yaqWoJxtcem5",
        "colab_type": "raw"
      },
      "source": [
        "1\n",
        "4\n",
        "9"
      ]
    },
    {
      "cell_type": "code",
      "metadata": {
        "id": "Ul-AaTBgcem5",
        "colab_type": "code",
        "colab": {
          "base_uri": "https://localhost:8080/",
          "height": 87
        },
        "outputId": "e7649304-66f3-40b1-d211-b16081268baf"
      },
      "source": [
        "values = [1,2,3,4]\n",
        "for i in values:\n",
        "    print(i**2)"
      ],
      "execution_count": 90,
      "outputs": [
        {
          "output_type": "stream",
          "text": [
            "1\n",
            "4\n",
            "9\n",
            "16\n"
          ],
          "name": "stdout"
        }
      ]
    },
    {
      "cell_type": "markdown",
      "metadata": {
        "id": "hKIPKsi9cem7",
        "colab_type": "text"
      },
      "source": [
        "### <font color=\"red\">Exercise 4C: Print this Christmas tree using a loop"
      ]
    },
    {
      "cell_type": "markdown",
      "metadata": {
        "id": "zzwBB-eicem9",
        "colab_type": "raw"
      },
      "source": [
        "*\n",
        "**\n",
        "***\n",
        "****"
      ]
    },
    {
      "cell_type": "code",
      "metadata": {
        "id": "h17VmF-pcem9",
        "colab_type": "code",
        "colab": {
          "base_uri": "https://localhost:8080/",
          "height": 1000
        },
        "outputId": "4e76de18-279c-4aed-d677-0829cdc7d74d"
      },
      "source": [
        "# some starter code\n",
        "def christmasTree(treeHeight,stemLen,stemHeight):\n",
        "  if stemLen >= treeHeight:\n",
        "    print(\"ERROR: Stem longer in width than tree\")\n",
        "    return None\n",
        "  else:\n",
        "    for i in range(treeHeight):\n",
        "      spaces = treeHeight-i #calculates the number of spaces needed\n",
        "      leaves = (i+1)*2-1 #calculates the number of asteriks (trees) needed\n",
        "      print(\" \"*spaces+\"*\"*leaves+\" \"*spaces) #prints the leaves\n",
        "\n",
        "    for i in range (stemHeight):\n",
        "      spaces = treeHeight-stemLen+1\n",
        "      print (\" \"*spaces+\"|\"*(stemLen*2-1))\n",
        "\n",
        "christmasTree(51,50,100)"
      ],
      "execution_count": 124,
      "outputs": [
        {
          "output_type": "stream",
          "text": [
            "                                                   *                                                   \n",
            "                                                  ***                                                  \n",
            "                                                 *****                                                 \n",
            "                                                *******                                                \n",
            "                                               *********                                               \n",
            "                                              ***********                                              \n",
            "                                             *************                                             \n",
            "                                            ***************                                            \n",
            "                                           *****************                                           \n",
            "                                          *******************                                          \n",
            "                                         *********************                                         \n",
            "                                        ***********************                                        \n",
            "                                       *************************                                       \n",
            "                                      ***************************                                      \n",
            "                                     *****************************                                     \n",
            "                                    *******************************                                    \n",
            "                                   *********************************                                   \n",
            "                                  ***********************************                                  \n",
            "                                 *************************************                                 \n",
            "                                ***************************************                                \n",
            "                               *****************************************                               \n",
            "                              *******************************************                              \n",
            "                             *********************************************                             \n",
            "                            ***********************************************                            \n",
            "                           *************************************************                           \n",
            "                          ***************************************************                          \n",
            "                         *****************************************************                         \n",
            "                        *******************************************************                        \n",
            "                       *********************************************************                       \n",
            "                      ***********************************************************                      \n",
            "                     *************************************************************                     \n",
            "                    ***************************************************************                    \n",
            "                   *****************************************************************                   \n",
            "                  *******************************************************************                  \n",
            "                 *********************************************************************                 \n",
            "                ***********************************************************************                \n",
            "               *************************************************************************               \n",
            "              ***************************************************************************              \n",
            "             *****************************************************************************             \n",
            "            *******************************************************************************            \n",
            "           *********************************************************************************           \n",
            "          ***********************************************************************************          \n",
            "         *************************************************************************************         \n",
            "        ***************************************************************************************        \n",
            "       *****************************************************************************************       \n",
            "      *******************************************************************************************      \n",
            "     *********************************************************************************************     \n",
            "    ***********************************************************************************************    \n",
            "   *************************************************************************************************   \n",
            "  ***************************************************************************************************  \n",
            " ***************************************************************************************************** \n",
            "  |||||||||||||||||||||||||||||||||||||||||||||||||||||||||||||||||||||||||||||||||||||||||||||||||||\n",
            "  |||||||||||||||||||||||||||||||||||||||||||||||||||||||||||||||||||||||||||||||||||||||||||||||||||\n",
            "  |||||||||||||||||||||||||||||||||||||||||||||||||||||||||||||||||||||||||||||||||||||||||||||||||||\n",
            "  |||||||||||||||||||||||||||||||||||||||||||||||||||||||||||||||||||||||||||||||||||||||||||||||||||\n",
            "  |||||||||||||||||||||||||||||||||||||||||||||||||||||||||||||||||||||||||||||||||||||||||||||||||||\n",
            "  |||||||||||||||||||||||||||||||||||||||||||||||||||||||||||||||||||||||||||||||||||||||||||||||||||\n",
            "  |||||||||||||||||||||||||||||||||||||||||||||||||||||||||||||||||||||||||||||||||||||||||||||||||||\n",
            "  |||||||||||||||||||||||||||||||||||||||||||||||||||||||||||||||||||||||||||||||||||||||||||||||||||\n",
            "  |||||||||||||||||||||||||||||||||||||||||||||||||||||||||||||||||||||||||||||||||||||||||||||||||||\n",
            "  |||||||||||||||||||||||||||||||||||||||||||||||||||||||||||||||||||||||||||||||||||||||||||||||||||\n",
            "  |||||||||||||||||||||||||||||||||||||||||||||||||||||||||||||||||||||||||||||||||||||||||||||||||||\n",
            "  |||||||||||||||||||||||||||||||||||||||||||||||||||||||||||||||||||||||||||||||||||||||||||||||||||\n",
            "  |||||||||||||||||||||||||||||||||||||||||||||||||||||||||||||||||||||||||||||||||||||||||||||||||||\n",
            "  |||||||||||||||||||||||||||||||||||||||||||||||||||||||||||||||||||||||||||||||||||||||||||||||||||\n",
            "  |||||||||||||||||||||||||||||||||||||||||||||||||||||||||||||||||||||||||||||||||||||||||||||||||||\n",
            "  |||||||||||||||||||||||||||||||||||||||||||||||||||||||||||||||||||||||||||||||||||||||||||||||||||\n",
            "  |||||||||||||||||||||||||||||||||||||||||||||||||||||||||||||||||||||||||||||||||||||||||||||||||||\n",
            "  |||||||||||||||||||||||||||||||||||||||||||||||||||||||||||||||||||||||||||||||||||||||||||||||||||\n",
            "  |||||||||||||||||||||||||||||||||||||||||||||||||||||||||||||||||||||||||||||||||||||||||||||||||||\n",
            "  |||||||||||||||||||||||||||||||||||||||||||||||||||||||||||||||||||||||||||||||||||||||||||||||||||\n",
            "  |||||||||||||||||||||||||||||||||||||||||||||||||||||||||||||||||||||||||||||||||||||||||||||||||||\n",
            "  |||||||||||||||||||||||||||||||||||||||||||||||||||||||||||||||||||||||||||||||||||||||||||||||||||\n",
            "  |||||||||||||||||||||||||||||||||||||||||||||||||||||||||||||||||||||||||||||||||||||||||||||||||||\n",
            "  |||||||||||||||||||||||||||||||||||||||||||||||||||||||||||||||||||||||||||||||||||||||||||||||||||\n",
            "  |||||||||||||||||||||||||||||||||||||||||||||||||||||||||||||||||||||||||||||||||||||||||||||||||||\n",
            "  |||||||||||||||||||||||||||||||||||||||||||||||||||||||||||||||||||||||||||||||||||||||||||||||||||\n",
            "  |||||||||||||||||||||||||||||||||||||||||||||||||||||||||||||||||||||||||||||||||||||||||||||||||||\n",
            "  |||||||||||||||||||||||||||||||||||||||||||||||||||||||||||||||||||||||||||||||||||||||||||||||||||\n",
            "  |||||||||||||||||||||||||||||||||||||||||||||||||||||||||||||||||||||||||||||||||||||||||||||||||||\n",
            "  |||||||||||||||||||||||||||||||||||||||||||||||||||||||||||||||||||||||||||||||||||||||||||||||||||\n",
            "  |||||||||||||||||||||||||||||||||||||||||||||||||||||||||||||||||||||||||||||||||||||||||||||||||||\n",
            "  |||||||||||||||||||||||||||||||||||||||||||||||||||||||||||||||||||||||||||||||||||||||||||||||||||\n",
            "  |||||||||||||||||||||||||||||||||||||||||||||||||||||||||||||||||||||||||||||||||||||||||||||||||||\n",
            "  |||||||||||||||||||||||||||||||||||||||||||||||||||||||||||||||||||||||||||||||||||||||||||||||||||\n",
            "  |||||||||||||||||||||||||||||||||||||||||||||||||||||||||||||||||||||||||||||||||||||||||||||||||||\n",
            "  |||||||||||||||||||||||||||||||||||||||||||||||||||||||||||||||||||||||||||||||||||||||||||||||||||\n",
            "  |||||||||||||||||||||||||||||||||||||||||||||||||||||||||||||||||||||||||||||||||||||||||||||||||||\n",
            "  |||||||||||||||||||||||||||||||||||||||||||||||||||||||||||||||||||||||||||||||||||||||||||||||||||\n",
            "  |||||||||||||||||||||||||||||||||||||||||||||||||||||||||||||||||||||||||||||||||||||||||||||||||||\n",
            "  |||||||||||||||||||||||||||||||||||||||||||||||||||||||||||||||||||||||||||||||||||||||||||||||||||\n",
            "  |||||||||||||||||||||||||||||||||||||||||||||||||||||||||||||||||||||||||||||||||||||||||||||||||||\n",
            "  |||||||||||||||||||||||||||||||||||||||||||||||||||||||||||||||||||||||||||||||||||||||||||||||||||\n",
            "  |||||||||||||||||||||||||||||||||||||||||||||||||||||||||||||||||||||||||||||||||||||||||||||||||||\n",
            "  |||||||||||||||||||||||||||||||||||||||||||||||||||||||||||||||||||||||||||||||||||||||||||||||||||\n",
            "  |||||||||||||||||||||||||||||||||||||||||||||||||||||||||||||||||||||||||||||||||||||||||||||||||||\n",
            "  |||||||||||||||||||||||||||||||||||||||||||||||||||||||||||||||||||||||||||||||||||||||||||||||||||\n",
            "  |||||||||||||||||||||||||||||||||||||||||||||||||||||||||||||||||||||||||||||||||||||||||||||||||||\n",
            "  |||||||||||||||||||||||||||||||||||||||||||||||||||||||||||||||||||||||||||||||||||||||||||||||||||\n",
            "  |||||||||||||||||||||||||||||||||||||||||||||||||||||||||||||||||||||||||||||||||||||||||||||||||||\n",
            "  |||||||||||||||||||||||||||||||||||||||||||||||||||||||||||||||||||||||||||||||||||||||||||||||||||\n",
            "  |||||||||||||||||||||||||||||||||||||||||||||||||||||||||||||||||||||||||||||||||||||||||||||||||||\n",
            "  |||||||||||||||||||||||||||||||||||||||||||||||||||||||||||||||||||||||||||||||||||||||||||||||||||\n",
            "  |||||||||||||||||||||||||||||||||||||||||||||||||||||||||||||||||||||||||||||||||||||||||||||||||||\n",
            "  |||||||||||||||||||||||||||||||||||||||||||||||||||||||||||||||||||||||||||||||||||||||||||||||||||\n",
            "  |||||||||||||||||||||||||||||||||||||||||||||||||||||||||||||||||||||||||||||||||||||||||||||||||||\n",
            "  |||||||||||||||||||||||||||||||||||||||||||||||||||||||||||||||||||||||||||||||||||||||||||||||||||\n",
            "  |||||||||||||||||||||||||||||||||||||||||||||||||||||||||||||||||||||||||||||||||||||||||||||||||||\n",
            "  |||||||||||||||||||||||||||||||||||||||||||||||||||||||||||||||||||||||||||||||||||||||||||||||||||\n",
            "  |||||||||||||||||||||||||||||||||||||||||||||||||||||||||||||||||||||||||||||||||||||||||||||||||||\n",
            "  |||||||||||||||||||||||||||||||||||||||||||||||||||||||||||||||||||||||||||||||||||||||||||||||||||\n",
            "  |||||||||||||||||||||||||||||||||||||||||||||||||||||||||||||||||||||||||||||||||||||||||||||||||||\n",
            "  |||||||||||||||||||||||||||||||||||||||||||||||||||||||||||||||||||||||||||||||||||||||||||||||||||\n",
            "  |||||||||||||||||||||||||||||||||||||||||||||||||||||||||||||||||||||||||||||||||||||||||||||||||||\n",
            "  |||||||||||||||||||||||||||||||||||||||||||||||||||||||||||||||||||||||||||||||||||||||||||||||||||\n",
            "  |||||||||||||||||||||||||||||||||||||||||||||||||||||||||||||||||||||||||||||||||||||||||||||||||||\n",
            "  |||||||||||||||||||||||||||||||||||||||||||||||||||||||||||||||||||||||||||||||||||||||||||||||||||\n",
            "  |||||||||||||||||||||||||||||||||||||||||||||||||||||||||||||||||||||||||||||||||||||||||||||||||||\n",
            "  |||||||||||||||||||||||||||||||||||||||||||||||||||||||||||||||||||||||||||||||||||||||||||||||||||\n",
            "  |||||||||||||||||||||||||||||||||||||||||||||||||||||||||||||||||||||||||||||||||||||||||||||||||||\n",
            "  |||||||||||||||||||||||||||||||||||||||||||||||||||||||||||||||||||||||||||||||||||||||||||||||||||\n",
            "  |||||||||||||||||||||||||||||||||||||||||||||||||||||||||||||||||||||||||||||||||||||||||||||||||||\n",
            "  |||||||||||||||||||||||||||||||||||||||||||||||||||||||||||||||||||||||||||||||||||||||||||||||||||\n",
            "  |||||||||||||||||||||||||||||||||||||||||||||||||||||||||||||||||||||||||||||||||||||||||||||||||||\n",
            "  |||||||||||||||||||||||||||||||||||||||||||||||||||||||||||||||||||||||||||||||||||||||||||||||||||\n",
            "  |||||||||||||||||||||||||||||||||||||||||||||||||||||||||||||||||||||||||||||||||||||||||||||||||||\n",
            "  |||||||||||||||||||||||||||||||||||||||||||||||||||||||||||||||||||||||||||||||||||||||||||||||||||\n",
            "  |||||||||||||||||||||||||||||||||||||||||||||||||||||||||||||||||||||||||||||||||||||||||||||||||||\n",
            "  |||||||||||||||||||||||||||||||||||||||||||||||||||||||||||||||||||||||||||||||||||||||||||||||||||\n",
            "  |||||||||||||||||||||||||||||||||||||||||||||||||||||||||||||||||||||||||||||||||||||||||||||||||||\n",
            "  |||||||||||||||||||||||||||||||||||||||||||||||||||||||||||||||||||||||||||||||||||||||||||||||||||\n",
            "  |||||||||||||||||||||||||||||||||||||||||||||||||||||||||||||||||||||||||||||||||||||||||||||||||||\n",
            "  |||||||||||||||||||||||||||||||||||||||||||||||||||||||||||||||||||||||||||||||||||||||||||||||||||\n",
            "  |||||||||||||||||||||||||||||||||||||||||||||||||||||||||||||||||||||||||||||||||||||||||||||||||||\n",
            "  |||||||||||||||||||||||||||||||||||||||||||||||||||||||||||||||||||||||||||||||||||||||||||||||||||\n",
            "  |||||||||||||||||||||||||||||||||||||||||||||||||||||||||||||||||||||||||||||||||||||||||||||||||||\n",
            "  |||||||||||||||||||||||||||||||||||||||||||||||||||||||||||||||||||||||||||||||||||||||||||||||||||\n",
            "  |||||||||||||||||||||||||||||||||||||||||||||||||||||||||||||||||||||||||||||||||||||||||||||||||||\n",
            "  |||||||||||||||||||||||||||||||||||||||||||||||||||||||||||||||||||||||||||||||||||||||||||||||||||\n",
            "  |||||||||||||||||||||||||||||||||||||||||||||||||||||||||||||||||||||||||||||||||||||||||||||||||||\n",
            "  |||||||||||||||||||||||||||||||||||||||||||||||||||||||||||||||||||||||||||||||||||||||||||||||||||\n",
            "  |||||||||||||||||||||||||||||||||||||||||||||||||||||||||||||||||||||||||||||||||||||||||||||||||||\n",
            "  |||||||||||||||||||||||||||||||||||||||||||||||||||||||||||||||||||||||||||||||||||||||||||||||||||\n",
            "  |||||||||||||||||||||||||||||||||||||||||||||||||||||||||||||||||||||||||||||||||||||||||||||||||||\n",
            "  |||||||||||||||||||||||||||||||||||||||||||||||||||||||||||||||||||||||||||||||||||||||||||||||||||\n",
            "  |||||||||||||||||||||||||||||||||||||||||||||||||||||||||||||||||||||||||||||||||||||||||||||||||||\n",
            "  |||||||||||||||||||||||||||||||||||||||||||||||||||||||||||||||||||||||||||||||||||||||||||||||||||\n",
            "  |||||||||||||||||||||||||||||||||||||||||||||||||||||||||||||||||||||||||||||||||||||||||||||||||||\n",
            "  |||||||||||||||||||||||||||||||||||||||||||||||||||||||||||||||||||||||||||||||||||||||||||||||||||\n",
            "  |||||||||||||||||||||||||||||||||||||||||||||||||||||||||||||||||||||||||||||||||||||||||||||||||||\n",
            "  |||||||||||||||||||||||||||||||||||||||||||||||||||||||||||||||||||||||||||||||||||||||||||||||||||\n"
          ],
          "name": "stdout"
        }
      ]
    },
    {
      "cell_type": "markdown",
      "metadata": {
        "id": "o7Y8GzVmcem_",
        "colab_type": "text"
      },
      "source": [
        "<hr>"
      ]
    },
    {
      "cell_type": "markdown",
      "metadata": {
        "id": "8VdrJTOBcem_",
        "colab_type": "text"
      },
      "source": [
        "## Conditionals\n",
        "\n",
        "To have Python make decisions for us, we use `if` statements. These control whether blocks of code are run or not. Structurally, they're similar to `for` loops; you start with an `if`, end with a colon, and indent the block of code you want to run conditionally:"
      ]
    },
    {
      "cell_type": "code",
      "metadata": {
        "id": "3XhiRL4pcenA",
        "colab_type": "code",
        "colab": {}
      },
      "source": [
        ""
      ],
      "execution_count": 0,
      "outputs": []
    },
    {
      "cell_type": "code",
      "metadata": {
        "id": "ycWB_GykcenB",
        "colab_type": "code",
        "colab": {}
      },
      "source": [
        ""
      ],
      "execution_count": 0,
      "outputs": []
    },
    {
      "cell_type": "markdown",
      "metadata": {
        "id": "-fCPVfYycenC",
        "colab_type": "text"
      },
      "source": [
        "That seemed rather pointless, because we _knew_ what the values were before we ran the loop. Conditionals become more useful when dealing with data we don't define ourselves, e.g. when the data comes in a list:"
      ]
    },
    {
      "cell_type": "code",
      "metadata": {
        "id": "oGvG29F2cenC",
        "colab_type": "code",
        "colab": {}
      },
      "source": [
        ""
      ],
      "execution_count": 0,
      "outputs": []
    },
    {
      "cell_type": "markdown",
      "metadata": {
        "id": "tNUw9e2XcenE",
        "colab_type": "text"
      },
      "source": [
        "`else` can be used following an `if`, to specify an alternative course of action:\n"
      ]
    },
    {
      "cell_type": "code",
      "metadata": {
        "id": "jOQ0od7WcenE",
        "colab_type": "code",
        "colab": {}
      },
      "source": [
        ""
      ],
      "execution_count": 0,
      "outputs": []
    },
    {
      "cell_type": "markdown",
      "metadata": {
        "id": "IRfUNUX8cenG",
        "colab_type": "text"
      },
      "source": [
        "and `elif` can be used to define more conditions:"
      ]
    },
    {
      "cell_type": "code",
      "metadata": {
        "id": "0-q4sGPzcenH",
        "colab_type": "code",
        "colab": {}
      },
      "source": [
        ""
      ],
      "execution_count": 0,
      "outputs": []
    },
    {
      "cell_type": "markdown",
      "metadata": {
        "id": "ogf2rP6jcenI",
        "colab_type": "text"
      },
      "source": [
        "### <font color=\"red\">Exercise 5A: Print this list, but numbered\n",
        "\n",
        "Given a list of values, print them out, but with numbering. E.g.:"
      ]
    },
    {
      "cell_type": "markdown",
      "metadata": {
        "id": "6arZ0xOpcenI",
        "colab_type": "raw"
      },
      "source": [
        "Day 1 reading: 0.44\n",
        "Day 2 reading: 0.01\n",
        "Day 3 reading: 0.24"
      ]
    },
    {
      "cell_type": "markdown",
      "metadata": {
        "id": "9DUTqMW9cenI",
        "colab_type": "text"
      },
      "source": [
        "Note: this first exercise doesn't use conditionals, but the following ones will!"
      ]
    },
    {
      "cell_type": "code",
      "metadata": {
        "id": "A5yavW6tcenJ",
        "colab_type": "code",
        "colab": {
          "base_uri": "https://localhost:8080/",
          "height": 70
        },
        "outputId": "e0ed0486-05d4-42d0-c9eb-713ca30e6cb5"
      },
      "source": [
        "readings = [0.44, 0.01, 0.24]\n",
        "index = 1\n",
        "\n",
        "for i in readings: \n",
        "  print(str(index)+\". \",i)\n",
        "  index += 1"
      ],
      "execution_count": 87,
      "outputs": [
        {
          "output_type": "stream",
          "text": [
            "1.  0.44\n",
            "2.  0.01\n",
            "3.  0.24\n"
          ],
          "name": "stdout"
        }
      ]
    },
    {
      "cell_type": "markdown",
      "metadata": {
        "id": "c-znJuCwcenK",
        "colab_type": "text"
      },
      "source": [
        "### <font color=\"red\">Exercise 5B: Panic if something is too low\n",
        "\n",
        "Same as above, but insert a huge warning if the value is below 0.1."
      ]
    },
    {
      "cell_type": "markdown",
      "metadata": {
        "id": "ad6Jr6jTcenL",
        "colab_type": "raw"
      },
      "source": [
        "Day 1 reading: 0.44\n",
        "Day 2 reading: 0.01 . WHAT! THIS IS TOO LOW!\n",
        "Day 3 reading: 0.24"
      ]
    },
    {
      "cell_type": "code",
      "metadata": {
        "id": "Re4HiA9TcenL",
        "colab_type": "code",
        "colab": {
          "base_uri": "https://localhost:8080/",
          "height": 87
        },
        "outputId": "05291297-eaa7-4c0e-e8f0-92812c8d36cc"
      },
      "source": [
        "readings = [0.44, 0.01, 0.24, 0.02]\n",
        "index = 1\n",
        "\n",
        "for i in readings: \n",
        "  if i < 0.1:\n",
        "    warning = \"WARNING: THE VALUE IS BELOW 0.1!\"\n",
        "  else:\n",
        "    warning = \"\"\n",
        "  print(str(index)+\". \", i, warning)\n",
        "  index += 1"
      ],
      "execution_count": 89,
      "outputs": [
        {
          "output_type": "stream",
          "text": [
            "1.  0.44 \n",
            "2.  0.01 WARNING: THE VALUE IS BELOW 0.1!\n",
            "3.  0.24 \n",
            "4.  0.02 WARNING: THE VALUE IS BELOW 0.1!\n"
          ],
          "name": "stdout"
        }
      ]
    },
    {
      "cell_type": "markdown",
      "metadata": {
        "id": "Ca8O7dbIcenO",
        "colab_type": "text"
      },
      "source": [
        "### <font color=\"red\">Exercise 5C: Generate multiples\n",
        "\n",
        "Print out all the positive multiples of 7 that are smaller than 200. The largest number printed should be 196. It's OK to print 0 to start out."
      ]
    },
    {
      "cell_type": "code",
      "metadata": {
        "id": "6cvkB1gUcenP",
        "colab_type": "code",
        "colab": {
          "base_uri": "https://localhost:8080/",
          "height": 514
        },
        "outputId": "096644ee-6e9b-4559-db1f-de7ee0eb4ce3"
      },
      "source": [
        "for i in range(199):\n",
        "  no = i+1\n",
        "  if no%7 == 0:\n",
        "    print (no)"
      ],
      "execution_count": 83,
      "outputs": [
        {
          "output_type": "stream",
          "text": [
            "7\n",
            "14\n",
            "21\n",
            "28\n",
            "35\n",
            "42\n",
            "49\n",
            "56\n",
            "63\n",
            "70\n",
            "77\n",
            "84\n",
            "91\n",
            "98\n",
            "105\n",
            "112\n",
            "119\n",
            "126\n",
            "133\n",
            "140\n",
            "147\n",
            "154\n",
            "161\n",
            "168\n",
            "175\n",
            "182\n",
            "189\n",
            "196\n"
          ],
          "name": "stdout"
        }
      ]
    },
    {
      "cell_type": "markdown",
      "metadata": {
        "collapsed": true,
        "id": "GVdWyrYFcenS",
        "colab_type": "text"
      },
      "source": [
        "### <font color=\"red\">Exercise 5D: Multi-multiples\n",
        "\n",
        "Print out all the positive multiples of 7 _or_ 13 that are smaller than 200."
      ]
    },
    {
      "cell_type": "code",
      "metadata": {
        "id": "lLy_4NnMcenS",
        "colab_type": "code",
        "colab": {
          "base_uri": "https://localhost:8080/",
          "height": 745
        },
        "outputId": "69831ab8-8935-40da-bd31-e3fe4324b594"
      },
      "source": [
        "for i in range(199):\n",
        "  no = i+1\n",
        "  if no%7 == 0:\n",
        "    print (no)\n",
        "  elif no%13 == 0:\n",
        "    print (no)"
      ],
      "execution_count": 82,
      "outputs": [
        {
          "output_type": "stream",
          "text": [
            "7\n",
            "13\n",
            "14\n",
            "21\n",
            "26\n",
            "28\n",
            "35\n",
            "39\n",
            "42\n",
            "49\n",
            "52\n",
            "56\n",
            "63\n",
            "65\n",
            "70\n",
            "77\n",
            "78\n",
            "84\n",
            "91\n",
            "98\n",
            "104\n",
            "105\n",
            "112\n",
            "117\n",
            "119\n",
            "126\n",
            "130\n",
            "133\n",
            "140\n",
            "143\n",
            "147\n",
            "154\n",
            "156\n",
            "161\n",
            "168\n",
            "169\n",
            "175\n",
            "182\n",
            "189\n",
            "195\n",
            "196\n"
          ],
          "name": "stdout"
        }
      ]
    },
    {
      "cell_type": "markdown",
      "metadata": {
        "collapsed": true,
        "id": "Vp-Hq-nNcenT",
        "colab_type": "text"
      },
      "source": [
        "<hr>"
      ]
    },
    {
      "cell_type": "markdown",
      "metadata": {
        "collapsed": true,
        "id": "klTa5DNfcenU",
        "colab_type": "text"
      },
      "source": [
        "## Further reading\n",
        "\n",
        "Want to learn more? We recommend the following:\n",
        "\n",
        "* [How to think like a Computer Scientist](https://interactivepython.org/courselib/static/thinkcspy/toc.html#t-o-c), an interactive online book \n",
        "* [Learn Python the Hard Way](https://learnpythonthehardway.org/) has lots of exercises to try\n",
        "* [Automate the Boring Stuff with Python](https://automatetheboringstuff.com/), for your lifehacks. Also available on Udemy as video. "
      ]
    },
    {
      "cell_type": "code",
      "metadata": {
        "id": "iEzMbeUqcenU",
        "colab_type": "code",
        "colab": {}
      },
      "source": [
        ""
      ],
      "execution_count": 0,
      "outputs": []
    },
    {
      "cell_type": "code",
      "metadata": {
        "id": "WlYgq-DZcenX",
        "colab_type": "code",
        "colab": {}
      },
      "source": [
        ""
      ],
      "execution_count": 0,
      "outputs": []
    },
    {
      "cell_type": "code",
      "metadata": {
        "id": "KcsOcbfFcenb",
        "colab_type": "code",
        "colab": {}
      },
      "source": [
        ""
      ],
      "execution_count": 0,
      "outputs": []
    }
  ]
}