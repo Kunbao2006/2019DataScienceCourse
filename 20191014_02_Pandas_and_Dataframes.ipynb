{
  "nbformat": 4,
  "nbformat_minor": 0,
  "metadata": {
    "kernelspec": {
      "display_name": "Python 3",
      "language": "python",
      "name": "python3"
    },
    "language_info": {
      "codemirror_mode": {
        "name": "ipython",
        "version": 3
      },
      "file_extension": ".py",
      "mimetype": "text/x-python",
      "name": "python",
      "nbconvert_exporter": "python",
      "pygments_lexer": "ipython3",
      "version": "3.6.3"
    },
    "colab": {
      "name": "20191014 02 Pandas and Dataframes.ipynb",
      "provenance": [],
      "collapsed_sections": [],
      "include_colab_link": true
    }
  },
  "cells": [
    {
      "cell_type": "markdown",
      "metadata": {
        "id": "view-in-github",
        "colab_type": "text"
      },
      "source": [
        "<a href=\"https://colab.research.google.com/github/Kunbao2006/2019DataScienceCourse/blob/master/20191014_02_Pandas_and_Dataframes.ipynb\" target=\"_parent\"><img src=\"https://colab.research.google.com/assets/colab-badge.svg\" alt=\"Open In Colab\"/></a>"
      ]
    },
    {
      "cell_type": "markdown",
      "metadata": {
        "id": "JKB8jy586LEb",
        "colab_type": "text"
      },
      "source": [
        "# Introduction to Pandas and Dataframes\n",
        "\n",
        "**Pandas** is a popular Python library, used for statistical analysis. We operate on **dataframes**, which you can think of as \"Excel sheets as variables in Python\". "
      ]
    },
    {
      "cell_type": "code",
      "metadata": {
        "id": "koB_3xui6LEd",
        "colab_type": "code",
        "colab": {
          "base_uri": "https://localhost:8080/",
          "height": 34
        },
        "outputId": "e539f7e3-d9c9-4c79-f862-207a34b50950"
      },
      "source": [
        "import pandas as pd\n",
        "\n",
        "from google.colab import drive\n",
        "drive.mount('/content/drive')\n",
        "\n",
        "driveLoc = \"/content/drive/My Drive\""
      ],
      "execution_count": 142,
      "outputs": [
        {
          "output_type": "stream",
          "text": [
            "Drive already mounted at /content/drive; to attempt to forcibly remount, call drive.mount(\"/content/drive\", force_remount=True).\n"
          ],
          "name": "stdout"
        }
      ]
    },
    {
      "cell_type": "markdown",
      "metadata": {
        "id": "DyqBMGFE6LEg",
        "colab_type": "text"
      },
      "source": [
        "## Importing data\n",
        "\n",
        "Now, let's import some data! We do this using the `read_csv` function within the `pd` library, so we call it with `pd.read_csv`. We tell it one thing: the location of the file to be read. \n",
        "\n",
        "Let's get started by importing a CSV file, which are plain-text versions of data values! Some sample CSV files can be found in this server's `Resources` folder. To use them, you'll need to go to the homepage, download the CSV files from the `Resources` folder, and **re-upload to the same folder as this notebook**. \n",
        "\n",
        "Once you're ready, run this line to store all that data in to a single variable:"
      ]
    },
    {
      "cell_type": "markdown",
      "metadata": {
        "id": "d2TCIygS6q9W",
        "colab_type": "text"
      },
      "source": [
        "Google Drive is mounted at /content/drive\n",
        "\n",
        "/content/drive/My Drive/Colab Notebooks/T4 Data Analysis /Original\n"
      ]
    },
    {
      "cell_type": "code",
      "metadata": {
        "id": "Ts0g02qS6LEg",
        "colab_type": "code",
        "colab": {}
      },
      "source": [
        "data = pd.read_csv(r\"/content/drive/My Drive/Colab Notebooks/T4 Data Analysis /Original/gdp_asia.csv\")"
      ],
      "execution_count": 0,
      "outputs": []
    },
    {
      "cell_type": "markdown",
      "metadata": {
        "id": "AI1D0Vx96LEk",
        "colab_type": "text"
      },
      "source": [
        "Printing is a bit unwieldy because of all the data. To read just a bit of info from the beginning, which lets you check if everything imported correctly, use `.head()`:"
      ]
    },
    {
      "cell_type": "code",
      "metadata": {
        "id": "-b-q8EER6LEi",
        "colab_type": "code",
        "colab": {}
      },
      "source": [
        "data.head(10) # number of lines to be printed out"
      ],
      "execution_count": 0,
      "outputs": []
    },
    {
      "cell_type": "code",
      "metadata": {
        "id": "Jxwgb5y27c6H",
        "colab_type": "code",
        "colab": {}
      },
      "source": [
        "data.tail()"
      ],
      "execution_count": 0,
      "outputs": []
    },
    {
      "cell_type": "markdown",
      "metadata": {
        "id": "UWi_X6K26LEn",
        "colab_type": "text"
      },
      "source": [
        "Notice that the column headings are each of the columns in the CSV file, and the row headings are just numbers. This is OK, but not quite right--we want each row heading to be the country. In pandas terminology, we want to **set the country column as the index**. To do this, we re-import, and specify an `index_col`:"
      ]
    },
    {
      "cell_type": "code",
      "metadata": {
        "id": "iuYyc_3K6LEn",
        "colab_type": "code",
        "colab": {}
      },
      "source": [
        "data = pd.read_csv(r\"/content/drive/My Drive/Colab Notebooks/T4 Data Analysis /Original/gdp_asia.csv\", index_col=\"country\")"
      ],
      "execution_count": 0,
      "outputs": []
    },
    {
      "cell_type": "code",
      "metadata": {
        "id": "nwJ8yf5P6LEp",
        "colab_type": "code",
        "colab": {
          "base_uri": "https://localhost:8080/",
          "height": 227
        },
        "outputId": "f90d3838-d69b-428d-f861-71f5de517a3a"
      },
      "source": [
        "data.head()"
      ],
      "execution_count": 12,
      "outputs": [
        {
          "output_type": "execute_result",
          "data": {
            "text/html": [
              "<div>\n",
              "<style scoped>\n",
              "    .dataframe tbody tr th:only-of-type {\n",
              "        vertical-align: middle;\n",
              "    }\n",
              "\n",
              "    .dataframe tbody tr th {\n",
              "        vertical-align: top;\n",
              "    }\n",
              "\n",
              "    .dataframe thead th {\n",
              "        text-align: right;\n",
              "    }\n",
              "</style>\n",
              "<table border=\"1\" class=\"dataframe\">\n",
              "  <thead>\n",
              "    <tr style=\"text-align: right;\">\n",
              "      <th></th>\n",
              "      <th>gdpPercap_1952</th>\n",
              "      <th>gdpPercap_1957</th>\n",
              "      <th>gdpPercap_1962</th>\n",
              "      <th>gdpPercap_1967</th>\n",
              "      <th>gdpPercap_1972</th>\n",
              "      <th>gdpPercap_1977</th>\n",
              "      <th>gdpPercap_1982</th>\n",
              "      <th>gdpPercap_1987</th>\n",
              "      <th>gdpPercap_1992</th>\n",
              "      <th>gdpPercap_1997</th>\n",
              "      <th>gdpPercap_2002</th>\n",
              "      <th>gdpPercap_2007</th>\n",
              "    </tr>\n",
              "    <tr>\n",
              "      <th>country</th>\n",
              "      <th></th>\n",
              "      <th></th>\n",
              "      <th></th>\n",
              "      <th></th>\n",
              "      <th></th>\n",
              "      <th></th>\n",
              "      <th></th>\n",
              "      <th></th>\n",
              "      <th></th>\n",
              "      <th></th>\n",
              "      <th></th>\n",
              "      <th></th>\n",
              "    </tr>\n",
              "  </thead>\n",
              "  <tbody>\n",
              "    <tr>\n",
              "      <th>Afghanistan</th>\n",
              "      <td>779.445314</td>\n",
              "      <td>820.853030</td>\n",
              "      <td>853.100710</td>\n",
              "      <td>836.197138</td>\n",
              "      <td>739.981106</td>\n",
              "      <td>786.113360</td>\n",
              "      <td>978.011439</td>\n",
              "      <td>852.395945</td>\n",
              "      <td>649.341395</td>\n",
              "      <td>635.341351</td>\n",
              "      <td>726.734055</td>\n",
              "      <td>974.580338</td>\n",
              "    </tr>\n",
              "    <tr>\n",
              "      <th>Bahrain</th>\n",
              "      <td>9867.084765</td>\n",
              "      <td>11635.799450</td>\n",
              "      <td>12753.275140</td>\n",
              "      <td>14804.672700</td>\n",
              "      <td>18268.658390</td>\n",
              "      <td>19340.101960</td>\n",
              "      <td>19211.147310</td>\n",
              "      <td>18524.024060</td>\n",
              "      <td>19035.579170</td>\n",
              "      <td>20292.016790</td>\n",
              "      <td>23403.559270</td>\n",
              "      <td>29796.048340</td>\n",
              "    </tr>\n",
              "    <tr>\n",
              "      <th>Bangladesh</th>\n",
              "      <td>684.244172</td>\n",
              "      <td>661.637458</td>\n",
              "      <td>686.341554</td>\n",
              "      <td>721.186086</td>\n",
              "      <td>630.233627</td>\n",
              "      <td>659.877232</td>\n",
              "      <td>676.981866</td>\n",
              "      <td>751.979403</td>\n",
              "      <td>837.810164</td>\n",
              "      <td>972.770035</td>\n",
              "      <td>1136.390430</td>\n",
              "      <td>1391.253792</td>\n",
              "    </tr>\n",
              "    <tr>\n",
              "      <th>Cambodia</th>\n",
              "      <td>368.469286</td>\n",
              "      <td>434.038336</td>\n",
              "      <td>496.913648</td>\n",
              "      <td>523.432314</td>\n",
              "      <td>421.624026</td>\n",
              "      <td>524.972183</td>\n",
              "      <td>624.475478</td>\n",
              "      <td>683.895573</td>\n",
              "      <td>682.303175</td>\n",
              "      <td>734.285170</td>\n",
              "      <td>896.226015</td>\n",
              "      <td>1713.778686</td>\n",
              "    </tr>\n",
              "    <tr>\n",
              "      <th>China</th>\n",
              "      <td>400.448611</td>\n",
              "      <td>575.987001</td>\n",
              "      <td>487.674018</td>\n",
              "      <td>612.705693</td>\n",
              "      <td>676.900092</td>\n",
              "      <td>741.237470</td>\n",
              "      <td>962.421380</td>\n",
              "      <td>1378.904018</td>\n",
              "      <td>1655.784158</td>\n",
              "      <td>2289.234136</td>\n",
              "      <td>3119.280896</td>\n",
              "      <td>4959.114854</td>\n",
              "    </tr>\n",
              "  </tbody>\n",
              "</table>\n",
              "</div>"
            ],
            "text/plain": [
              "             gdpPercap_1952  gdpPercap_1957  ...  gdpPercap_2002  gdpPercap_2007\n",
              "country                                      ...                                \n",
              "Afghanistan      779.445314      820.853030  ...      726.734055      974.580338\n",
              "Bahrain         9867.084765    11635.799450  ...    23403.559270    29796.048340\n",
              "Bangladesh       684.244172      661.637458  ...     1136.390430     1391.253792\n",
              "Cambodia         368.469286      434.038336  ...      896.226015     1713.778686\n",
              "China            400.448611      575.987001  ...     3119.280896     4959.114854\n",
              "\n",
              "[5 rows x 12 columns]"
            ]
          },
          "metadata": {
            "tags": []
          },
          "execution_count": 12
        }
      ]
    },
    {
      "cell_type": "markdown",
      "metadata": {
        "id": "JRkK_dR76LEr",
        "colab_type": "text"
      },
      "source": [
        "Now, the first two rows look a bit weird, but that's pandas' way of telling us that \"country\" is an index column. You can have multiple index columns, but that's beyond the scope of this class."
      ]
    },
    {
      "cell_type": "markdown",
      "metadata": {
        "id": "I20JWx-D6LEr",
        "colab_type": "text"
      },
      "source": [
        "<hr>"
      ]
    },
    {
      "cell_type": "markdown",
      "metadata": {
        "id": "Rdb2MYLA6LEs",
        "colab_type": "text"
      },
      "source": [
        "## Some DataFrame operations\n",
        "\n",
        "Some useful functions you can do with DataFrames below. Try them out, and see what they do!"
      ]
    },
    {
      "cell_type": "code",
      "metadata": {
        "id": "K4Douili6LEt",
        "colab_type": "code",
        "colab": {
          "base_uri": "https://localhost:8080/",
          "height": 287
        },
        "outputId": "afab948a-34ca-42dc-95c9-2b2cf570dd00"
      },
      "source": [
        "data.describe()"
      ],
      "execution_count": 13,
      "outputs": [
        {
          "output_type": "execute_result",
          "data": {
            "text/html": [
              "<div>\n",
              "<style scoped>\n",
              "    .dataframe tbody tr th:only-of-type {\n",
              "        vertical-align: middle;\n",
              "    }\n",
              "\n",
              "    .dataframe tbody tr th {\n",
              "        vertical-align: top;\n",
              "    }\n",
              "\n",
              "    .dataframe thead th {\n",
              "        text-align: right;\n",
              "    }\n",
              "</style>\n",
              "<table border=\"1\" class=\"dataframe\">\n",
              "  <thead>\n",
              "    <tr style=\"text-align: right;\">\n",
              "      <th></th>\n",
              "      <th>gdpPercap_1952</th>\n",
              "      <th>gdpPercap_1957</th>\n",
              "      <th>gdpPercap_1962</th>\n",
              "      <th>gdpPercap_1967</th>\n",
              "      <th>gdpPercap_1972</th>\n",
              "      <th>gdpPercap_1977</th>\n",
              "      <th>gdpPercap_1982</th>\n",
              "      <th>gdpPercap_1987</th>\n",
              "      <th>gdpPercap_1992</th>\n",
              "      <th>gdpPercap_1997</th>\n",
              "      <th>gdpPercap_2002</th>\n",
              "      <th>gdpPercap_2007</th>\n",
              "    </tr>\n",
              "  </thead>\n",
              "  <tbody>\n",
              "    <tr>\n",
              "      <th>count</th>\n",
              "      <td>33.000000</td>\n",
              "      <td>33.000000</td>\n",
              "      <td>33.000000</td>\n",
              "      <td>33.000000</td>\n",
              "      <td>33.000000</td>\n",
              "      <td>33.000000</td>\n",
              "      <td>33.000000</td>\n",
              "      <td>33.000000</td>\n",
              "      <td>33.000000</td>\n",
              "      <td>33.000000</td>\n",
              "      <td>33.000000</td>\n",
              "      <td>33.000000</td>\n",
              "    </tr>\n",
              "    <tr>\n",
              "      <th>mean</th>\n",
              "      <td>5195.484004</td>\n",
              "      <td>5787.732940</td>\n",
              "      <td>5729.369625</td>\n",
              "      <td>5971.173374</td>\n",
              "      <td>8187.468699</td>\n",
              "      <td>7791.314020</td>\n",
              "      <td>7434.135157</td>\n",
              "      <td>7608.226508</td>\n",
              "      <td>8639.690248</td>\n",
              "      <td>9834.093295</td>\n",
              "      <td>10174.090397</td>\n",
              "      <td>12473.026870</td>\n",
              "    </tr>\n",
              "    <tr>\n",
              "      <th>std</th>\n",
              "      <td>18634.890865</td>\n",
              "      <td>19506.515959</td>\n",
              "      <td>16415.857196</td>\n",
              "      <td>14062.591362</td>\n",
              "      <td>19087.502918</td>\n",
              "      <td>11815.777923</td>\n",
              "      <td>8701.176499</td>\n",
              "      <td>8090.262765</td>\n",
              "      <td>9727.431088</td>\n",
              "      <td>11094.180481</td>\n",
              "      <td>11150.719203</td>\n",
              "      <td>14154.937343</td>\n",
              "    </tr>\n",
              "    <tr>\n",
              "      <th>min</th>\n",
              "      <td>331.000000</td>\n",
              "      <td>350.000000</td>\n",
              "      <td>388.000000</td>\n",
              "      <td>349.000000</td>\n",
              "      <td>357.000000</td>\n",
              "      <td>371.000000</td>\n",
              "      <td>424.000000</td>\n",
              "      <td>385.000000</td>\n",
              "      <td>347.000000</td>\n",
              "      <td>415.000000</td>\n",
              "      <td>611.000000</td>\n",
              "      <td>944.000000</td>\n",
              "    </tr>\n",
              "    <tr>\n",
              "      <th>25%</th>\n",
              "      <td>749.681655</td>\n",
              "      <td>793.577415</td>\n",
              "      <td>825.623201</td>\n",
              "      <td>836.197138</td>\n",
              "      <td>1049.938981</td>\n",
              "      <td>1175.921193</td>\n",
              "      <td>1443.429832</td>\n",
              "      <td>1704.686583</td>\n",
              "      <td>1785.402016</td>\n",
              "      <td>1902.252100</td>\n",
              "      <td>2092.712441</td>\n",
              "      <td>2452.210407</td>\n",
              "    </tr>\n",
              "    <tr>\n",
              "      <th>50%</th>\n",
              "      <td>1206.947913</td>\n",
              "      <td>1547.944844</td>\n",
              "      <td>1649.552153</td>\n",
              "      <td>2029.228142</td>\n",
              "      <td>2571.423014</td>\n",
              "      <td>3195.484582</td>\n",
              "      <td>4106.525293</td>\n",
              "      <td>4106.492315</td>\n",
              "      <td>3726.063507</td>\n",
              "      <td>3645.379572</td>\n",
              "      <td>4090.925331</td>\n",
              "      <td>4471.061906</td>\n",
              "    </tr>\n",
              "    <tr>\n",
              "      <th>75%</th>\n",
              "      <td>3035.326002</td>\n",
              "      <td>3290.257643</td>\n",
              "      <td>4187.329802</td>\n",
              "      <td>5906.731805</td>\n",
              "      <td>8597.756202</td>\n",
              "      <td>11210.089480</td>\n",
              "      <td>12954.791010</td>\n",
              "      <td>11643.572680</td>\n",
              "      <td>15215.657900</td>\n",
              "      <td>19702.055810</td>\n",
              "      <td>19233.988180</td>\n",
              "      <td>22316.192870</td>\n",
              "    </tr>\n",
              "    <tr>\n",
              "      <th>max</th>\n",
              "      <td>108382.352900</td>\n",
              "      <td>113523.132900</td>\n",
              "      <td>95458.111760</td>\n",
              "      <td>80894.883260</td>\n",
              "      <td>109347.867000</td>\n",
              "      <td>59265.477140</td>\n",
              "      <td>33693.175250</td>\n",
              "      <td>28118.429980</td>\n",
              "      <td>34932.919590</td>\n",
              "      <td>40300.619960</td>\n",
              "      <td>36023.105400</td>\n",
              "      <td>47306.989780</td>\n",
              "    </tr>\n",
              "  </tbody>\n",
              "</table>\n",
              "</div>"
            ],
            "text/plain": [
              "       gdpPercap_1952  gdpPercap_1957  ...  gdpPercap_2002  gdpPercap_2007\n",
              "count       33.000000       33.000000  ...       33.000000       33.000000\n",
              "mean      5195.484004     5787.732940  ...    10174.090397    12473.026870\n",
              "std      18634.890865    19506.515959  ...    11150.719203    14154.937343\n",
              "min        331.000000      350.000000  ...      611.000000      944.000000\n",
              "25%        749.681655      793.577415  ...     2092.712441     2452.210407\n",
              "50%       1206.947913     1547.944844  ...     4090.925331     4471.061906\n",
              "75%       3035.326002     3290.257643  ...    19233.988180    22316.192870\n",
              "max     108382.352900   113523.132900  ...    36023.105400    47306.989780\n",
              "\n",
              "[8 rows x 12 columns]"
            ]
          },
          "metadata": {
            "tags": []
          },
          "execution_count": 13
        }
      ]
    },
    {
      "cell_type": "code",
      "metadata": {
        "id": "0HYiczcR6LEu",
        "colab_type": "code",
        "colab": {
          "base_uri": "https://localhost:8080/",
          "height": 318
        },
        "outputId": "fd90ded3-f826-4c1f-f943-87314994791a"
      },
      "source": [
        "data.info()"
      ],
      "execution_count": 14,
      "outputs": [
        {
          "output_type": "stream",
          "text": [
            "<class 'pandas.core.frame.DataFrame'>\n",
            "Index: 33 entries, Afghanistan to Yemen Rep.\n",
            "Data columns (total 12 columns):\n",
            "gdpPercap_1952    33 non-null float64\n",
            "gdpPercap_1957    33 non-null float64\n",
            "gdpPercap_1962    33 non-null float64\n",
            "gdpPercap_1967    33 non-null float64\n",
            "gdpPercap_1972    33 non-null float64\n",
            "gdpPercap_1977    33 non-null float64\n",
            "gdpPercap_1982    33 non-null float64\n",
            "gdpPercap_1987    33 non-null float64\n",
            "gdpPercap_1992    33 non-null float64\n",
            "gdpPercap_1997    33 non-null float64\n",
            "gdpPercap_2002    33 non-null float64\n",
            "gdpPercap_2007    33 non-null float64\n",
            "dtypes: float64(12)\n",
            "memory usage: 4.6+ KB\n"
          ],
          "name": "stdout"
        }
      ]
    },
    {
      "cell_type": "code",
      "metadata": {
        "id": "X62zV9di6LEw",
        "colab_type": "code",
        "colab": {
          "base_uri": "https://localhost:8080/",
          "height": 247
        },
        "outputId": "0e8cb4f5-fb4c-40eb-e9cc-b45463acfc94"
      },
      "source": [
        "data.mean()"
      ],
      "execution_count": 15,
      "outputs": [
        {
          "output_type": "execute_result",
          "data": {
            "text/plain": [
              "gdpPercap_1952     5195.484004\n",
              "gdpPercap_1957     5787.732940\n",
              "gdpPercap_1962     5729.369625\n",
              "gdpPercap_1967     5971.173374\n",
              "gdpPercap_1972     8187.468699\n",
              "gdpPercap_1977     7791.314020\n",
              "gdpPercap_1982     7434.135157\n",
              "gdpPercap_1987     7608.226508\n",
              "gdpPercap_1992     8639.690248\n",
              "gdpPercap_1997     9834.093295\n",
              "gdpPercap_2002    10174.090397\n",
              "gdpPercap_2007    12473.026870\n",
              "dtype: float64"
            ]
          },
          "metadata": {
            "tags": []
          },
          "execution_count": 15
        }
      ]
    },
    {
      "cell_type": "code",
      "metadata": {
        "id": "T7DiHeZS6LEy",
        "colab_type": "code",
        "colab": {
          "base_uri": "https://localhost:8080/",
          "height": 247
        },
        "outputId": "cdf55560-e8b1-40bf-a72a-fb194182ce69"
      },
      "source": [
        "data.max()"
      ],
      "execution_count": 16,
      "outputs": [
        {
          "output_type": "execute_result",
          "data": {
            "text/plain": [
              "gdpPercap_1952    108382.35290\n",
              "gdpPercap_1957    113523.13290\n",
              "gdpPercap_1962     95458.11176\n",
              "gdpPercap_1967     80894.88326\n",
              "gdpPercap_1972    109347.86700\n",
              "gdpPercap_1977     59265.47714\n",
              "gdpPercap_1982     33693.17525\n",
              "gdpPercap_1987     28118.42998\n",
              "gdpPercap_1992     34932.91959\n",
              "gdpPercap_1997     40300.61996\n",
              "gdpPercap_2002     36023.10540\n",
              "gdpPercap_2007     47306.98978\n",
              "dtype: float64"
            ]
          },
          "metadata": {
            "tags": []
          },
          "execution_count": 16
        }
      ]
    },
    {
      "cell_type": "code",
      "metadata": {
        "id": "npyIhKoO6LE0",
        "colab_type": "code",
        "colab": {
          "base_uri": "https://localhost:8080/",
          "height": 247
        },
        "outputId": "061b514a-e94b-499f-e6a7-9a63013609a1"
      },
      "source": [
        "data.min()"
      ],
      "execution_count": 17,
      "outputs": [
        {
          "output_type": "execute_result",
          "data": {
            "text/plain": [
              "gdpPercap_1952    331.0\n",
              "gdpPercap_1957    350.0\n",
              "gdpPercap_1962    388.0\n",
              "gdpPercap_1967    349.0\n",
              "gdpPercap_1972    357.0\n",
              "gdpPercap_1977    371.0\n",
              "gdpPercap_1982    424.0\n",
              "gdpPercap_1987    385.0\n",
              "gdpPercap_1992    347.0\n",
              "gdpPercap_1997    415.0\n",
              "gdpPercap_2002    611.0\n",
              "gdpPercap_2007    944.0\n",
              "dtype: float64"
            ]
          },
          "metadata": {
            "tags": []
          },
          "execution_count": 17
        }
      ]
    },
    {
      "cell_type": "code",
      "metadata": {
        "id": "LrP5tPmL6LE2",
        "colab_type": "code",
        "colab": {
          "base_uri": "https://localhost:8080/",
          "height": 87
        },
        "outputId": "af9464f9-df4f-4477-9f54-ef98258b8520"
      },
      "source": [
        "data.columns"
      ],
      "execution_count": 19,
      "outputs": [
        {
          "output_type": "execute_result",
          "data": {
            "text/plain": [
              "Index(['gdpPercap_1952', 'gdpPercap_1957', 'gdpPercap_1962', 'gdpPercap_1967',\n",
              "       'gdpPercap_1972', 'gdpPercap_1977', 'gdpPercap_1982', 'gdpPercap_1987',\n",
              "       'gdpPercap_1992', 'gdpPercap_1997', 'gdpPercap_2002', 'gdpPercap_2007'],\n",
              "      dtype='object')"
            ]
          },
          "metadata": {
            "tags": []
          },
          "execution_count": 19
        }
      ]
    },
    {
      "cell_type": "code",
      "metadata": {
        "id": "4NWlHYc46LE4",
        "colab_type": "code",
        "colab": {
          "base_uri": "https://localhost:8080/",
          "height": 141
        },
        "outputId": "2a103f48-b48b-4bda-8b6a-70fe8442b545"
      },
      "source": [
        "data.index"
      ],
      "execution_count": 20,
      "outputs": [
        {
          "output_type": "execute_result",
          "data": {
            "text/plain": [
              "Index(['Afghanistan', 'Bahrain', 'Bangladesh', 'Cambodia', 'China',\n",
              "       'Hong Kong China', 'India', 'Indonesia', 'Iran', 'Iraq', 'Israel',\n",
              "       'Japan', 'Jordan', 'Korea Dem. Rep.', 'Korea Rep.', 'Kuwait', 'Lebanon',\n",
              "       'Malaysia', 'Mongolia', 'Myanmar', 'Nepal', 'Oman', 'Pakistan',\n",
              "       'Philippines', 'Saudi Arabia', 'Singapore', 'Sri Lanka', 'Syria',\n",
              "       'Taiwan', 'Thailand', 'Vietnam', 'West Bank and Gaza', 'Yemen Rep.'],\n",
              "      dtype='object', name='country')"
            ]
          },
          "metadata": {
            "tags": []
          },
          "execution_count": 20
        }
      ]
    },
    {
      "cell_type": "markdown",
      "metadata": {
        "id": "TaJZk67_6LE5",
        "colab_type": "text"
      },
      "source": [
        "### <font color=\"red\">Exercise 1: Import and check\n",
        "\n",
        "Import the data from the CSV files of the other continents, and check how many rows of data they each have."
      ]
    },
    {
      "cell_type": "code",
      "metadata": {
        "id": "g5COfBZT6LE6",
        "colab_type": "code",
        "colab": {
          "base_uri": "https://localhost:8080/",
          "height": 1000
        },
        "outputId": "36bfcb18-aa23-481e-f652-6bbddfb8fe0f"
      },
      "source": [
        "continents = [\"africa\",\"americas\",\"asia\", \"europe\", \"oceania\",\"pop_all\"]\n",
        "for i in continents:\n",
        "  exec(\"data_%s = pd.read_csv(r'/content/drive/My Drive/Colab Notebooks/T4 Data Analysis /Original/gdp_'+i+'.csv', index_col='country')\" % i)\n",
        "  exec(\"print(data_%s.head())\" % i) # to check if data is correctly imported\n",
        "  exec(\"print(len(data_%s))\" % i)"
      ],
      "execution_count": 65,
      "outputs": [
        {
          "output_type": "stream",
          "text": [
            "              gdpPercap_1952  gdpPercap_1957  ...  gdpPercap_2002  gdpPercap_2007\n",
            "country                                       ...                                \n",
            "Algeria          2449.008185     3013.976023  ...     5288.040382     6223.367465\n",
            "Angola           3520.610273     3827.940465  ...     2773.287312     4797.231267\n",
            "Benin            1062.752200      959.601080  ...     1372.877931     1441.284873\n",
            "Botswana          851.241141      918.232535  ...    11003.605080    12569.851770\n",
            "Burkina Faso      543.255241      617.183465  ...     1037.645221     1217.032994\n",
            "\n",
            "[5 rows x 12 columns]\n",
            "52\n",
            "          continent  gdpPercap_1952  ...  gdpPercap_2002  gdpPercap_2007\n",
            "country                              ...                                \n",
            "Argentina  Americas     5911.315053  ...     8797.640716    12779.379640\n",
            "Bolivia    Americas     2677.326347  ...     3413.262690     3822.137084\n",
            "Brazil     Americas     2108.944355  ...     8131.212843     9065.800825\n",
            "Canada     Americas    11367.161120  ...    33328.965070    36319.235010\n",
            "Chile      Americas     3939.978789  ...    10778.783850    13171.638850\n",
            "\n",
            "[5 rows x 13 columns]\n",
            "25\n",
            "             gdpPercap_1952  gdpPercap_1957  ...  gdpPercap_2002  gdpPercap_2007\n",
            "country                                      ...                                \n",
            "Afghanistan      779.445314      820.853030  ...      726.734055      974.580338\n",
            "Bahrain         9867.084765    11635.799450  ...    23403.559270    29796.048340\n",
            "Bangladesh       684.244172      661.637458  ...     1136.390430     1391.253792\n",
            "Cambodia         368.469286      434.038336  ...      896.226015     1713.778686\n",
            "China            400.448611      575.987001  ...     3119.280896     4959.114854\n",
            "\n",
            "[5 rows x 12 columns]\n",
            "33\n",
            "                        gdpPercap_1952  ...  gdpPercap_2007\n",
            "country                                 ...                \n",
            "Albania                    1601.056136  ...     5937.029526\n",
            "Austria                    6137.076492  ...    36126.492700\n",
            "Belgium                    8343.105127  ...    33692.605080\n",
            "Bosnia and Herzegovina      973.533195  ...     7446.298803\n",
            "Bulgaria                   2444.286648  ...    10680.792820\n",
            "\n",
            "[5 rows x 12 columns]\n",
            "30\n",
            "             gdpPercap_1952  gdpPercap_1957  ...  gdpPercap_2002  gdpPercap_2007\n",
            "country                                      ...                                \n",
            "Australia       10039.59564     10949.64959  ...     30687.75473     34435.36744\n",
            "New Zealand     10556.57566     12247.39532  ...     23189.80135     25185.00911\n",
            "\n",
            "[2 rows x 12 columns]\n",
            "2\n",
            "             continent  gdpPercap_1952  ...  pop_2002  pop_2007\n",
            "country                                 ...                    \n",
            "Algeria         Africa     2449.008185  ...  31287142  33333216\n",
            "Angola          Africa     3520.610273  ...  10866106  12420476\n",
            "Benin           Africa     1062.752200  ...   7026113   8078314\n",
            "Botswana        Africa      851.241141  ...   1630347   1639131\n",
            "Burkina Faso    Africa      543.255241  ...  12251209  14326203\n",
            "\n",
            "[5 rows x 37 columns]\n",
            "142\n"
          ],
          "name": "stdout"
        }
      ]
    },
    {
      "cell_type": "code",
      "metadata": {
        "id": "XbKEfcoMClTp",
        "colab_type": "code",
        "colab": {
          "base_uri": "https://localhost:8080/",
          "height": 1000
        },
        "outputId": "42059579-0917-43a1-8cee-550c3a399a69"
      },
      "source": [
        ""
      ],
      "execution_count": 54,
      "outputs": [
        {
          "output_type": "execute_result",
          "data": {
            "text/html": [
              "<div>\n",
              "<style scoped>\n",
              "    .dataframe tbody tr th:only-of-type {\n",
              "        vertical-align: middle;\n",
              "    }\n",
              "\n",
              "    .dataframe tbody tr th {\n",
              "        vertical-align: top;\n",
              "    }\n",
              "\n",
              "    .dataframe thead th {\n",
              "        text-align: right;\n",
              "    }\n",
              "</style>\n",
              "<table border=\"1\" class=\"dataframe\">\n",
              "  <thead>\n",
              "    <tr style=\"text-align: right;\">\n",
              "      <th></th>\n",
              "      <th>country</th>\n",
              "      <th>gdpPercap_1952</th>\n",
              "      <th>gdpPercap_1957</th>\n",
              "      <th>gdpPercap_1962</th>\n",
              "      <th>gdpPercap_1967</th>\n",
              "      <th>gdpPercap_1972</th>\n",
              "      <th>gdpPercap_1977</th>\n",
              "      <th>gdpPercap_1982</th>\n",
              "      <th>gdpPercap_1987</th>\n",
              "      <th>gdpPercap_1992</th>\n",
              "      <th>gdpPercap_1997</th>\n",
              "      <th>gdpPercap_2002</th>\n",
              "      <th>gdpPercap_2007</th>\n",
              "    </tr>\n",
              "  </thead>\n",
              "  <tbody>\n",
              "    <tr>\n",
              "      <th>0</th>\n",
              "      <td>Afghanistan</td>\n",
              "      <td>779.445314</td>\n",
              "      <td>820.853030</td>\n",
              "      <td>853.100710</td>\n",
              "      <td>836.197138</td>\n",
              "      <td>739.981106</td>\n",
              "      <td>786.113360</td>\n",
              "      <td>978.011439</td>\n",
              "      <td>852.395945</td>\n",
              "      <td>649.341395</td>\n",
              "      <td>635.341351</td>\n",
              "      <td>726.734055</td>\n",
              "      <td>974.580338</td>\n",
              "    </tr>\n",
              "    <tr>\n",
              "      <th>1</th>\n",
              "      <td>Bahrain</td>\n",
              "      <td>9867.084765</td>\n",
              "      <td>11635.799450</td>\n",
              "      <td>12753.275140</td>\n",
              "      <td>14804.672700</td>\n",
              "      <td>18268.658390</td>\n",
              "      <td>19340.101960</td>\n",
              "      <td>19211.147310</td>\n",
              "      <td>18524.024060</td>\n",
              "      <td>19035.579170</td>\n",
              "      <td>20292.016790</td>\n",
              "      <td>23403.559270</td>\n",
              "      <td>29796.048340</td>\n",
              "    </tr>\n",
              "    <tr>\n",
              "      <th>2</th>\n",
              "      <td>Bangladesh</td>\n",
              "      <td>684.244172</td>\n",
              "      <td>661.637458</td>\n",
              "      <td>686.341554</td>\n",
              "      <td>721.186086</td>\n",
              "      <td>630.233627</td>\n",
              "      <td>659.877232</td>\n",
              "      <td>676.981866</td>\n",
              "      <td>751.979403</td>\n",
              "      <td>837.810164</td>\n",
              "      <td>972.770035</td>\n",
              "      <td>1136.390430</td>\n",
              "      <td>1391.253792</td>\n",
              "    </tr>\n",
              "    <tr>\n",
              "      <th>3</th>\n",
              "      <td>Cambodia</td>\n",
              "      <td>368.469286</td>\n",
              "      <td>434.038336</td>\n",
              "      <td>496.913648</td>\n",
              "      <td>523.432314</td>\n",
              "      <td>421.624026</td>\n",
              "      <td>524.972183</td>\n",
              "      <td>624.475478</td>\n",
              "      <td>683.895573</td>\n",
              "      <td>682.303175</td>\n",
              "      <td>734.285170</td>\n",
              "      <td>896.226015</td>\n",
              "      <td>1713.778686</td>\n",
              "    </tr>\n",
              "    <tr>\n",
              "      <th>4</th>\n",
              "      <td>China</td>\n",
              "      <td>400.448611</td>\n",
              "      <td>575.987001</td>\n",
              "      <td>487.674018</td>\n",
              "      <td>612.705693</td>\n",
              "      <td>676.900092</td>\n",
              "      <td>741.237470</td>\n",
              "      <td>962.421380</td>\n",
              "      <td>1378.904018</td>\n",
              "      <td>1655.784158</td>\n",
              "      <td>2289.234136</td>\n",
              "      <td>3119.280896</td>\n",
              "      <td>4959.114854</td>\n",
              "    </tr>\n",
              "    <tr>\n",
              "      <th>5</th>\n",
              "      <td>Hong Kong China</td>\n",
              "      <td>3054.421209</td>\n",
              "      <td>3629.076457</td>\n",
              "      <td>4692.648272</td>\n",
              "      <td>6197.962814</td>\n",
              "      <td>8315.928145</td>\n",
              "      <td>11186.141250</td>\n",
              "      <td>14560.530510</td>\n",
              "      <td>20038.472690</td>\n",
              "      <td>24757.603010</td>\n",
              "      <td>28377.632190</td>\n",
              "      <td>30209.015160</td>\n",
              "      <td>39724.978670</td>\n",
              "    </tr>\n",
              "    <tr>\n",
              "      <th>6</th>\n",
              "      <td>India</td>\n",
              "      <td>546.565749</td>\n",
              "      <td>590.061996</td>\n",
              "      <td>658.347151</td>\n",
              "      <td>700.770611</td>\n",
              "      <td>724.032527</td>\n",
              "      <td>813.337323</td>\n",
              "      <td>855.723538</td>\n",
              "      <td>976.512676</td>\n",
              "      <td>1164.406809</td>\n",
              "      <td>1458.817442</td>\n",
              "      <td>1746.769454</td>\n",
              "      <td>2452.210407</td>\n",
              "    </tr>\n",
              "    <tr>\n",
              "      <th>7</th>\n",
              "      <td>Indonesia</td>\n",
              "      <td>749.681655</td>\n",
              "      <td>858.900271</td>\n",
              "      <td>849.289770</td>\n",
              "      <td>762.431772</td>\n",
              "      <td>1111.107907</td>\n",
              "      <td>1382.702056</td>\n",
              "      <td>1516.872988</td>\n",
              "      <td>1748.356961</td>\n",
              "      <td>2383.140898</td>\n",
              "      <td>3119.335603</td>\n",
              "      <td>2873.912870</td>\n",
              "      <td>3540.651564</td>\n",
              "    </tr>\n",
              "    <tr>\n",
              "      <th>8</th>\n",
              "      <td>Iran</td>\n",
              "      <td>3035.326002</td>\n",
              "      <td>3290.257643</td>\n",
              "      <td>4187.329802</td>\n",
              "      <td>5906.731805</td>\n",
              "      <td>9613.818607</td>\n",
              "      <td>11888.595080</td>\n",
              "      <td>7608.334602</td>\n",
              "      <td>6642.881371</td>\n",
              "      <td>7235.653188</td>\n",
              "      <td>8263.590301</td>\n",
              "      <td>9240.761975</td>\n",
              "      <td>11605.714490</td>\n",
              "    </tr>\n",
              "    <tr>\n",
              "      <th>9</th>\n",
              "      <td>Iraq</td>\n",
              "      <td>4129.766056</td>\n",
              "      <td>6229.333562</td>\n",
              "      <td>8341.737815</td>\n",
              "      <td>8931.459811</td>\n",
              "      <td>9576.037596</td>\n",
              "      <td>14688.235070</td>\n",
              "      <td>14517.907110</td>\n",
              "      <td>11643.572680</td>\n",
              "      <td>3745.640687</td>\n",
              "      <td>3076.239795</td>\n",
              "      <td>4390.717312</td>\n",
              "      <td>4471.061906</td>\n",
              "    </tr>\n",
              "    <tr>\n",
              "      <th>10</th>\n",
              "      <td>Israel</td>\n",
              "      <td>4086.522128</td>\n",
              "      <td>5385.278451</td>\n",
              "      <td>7105.630706</td>\n",
              "      <td>8393.741404</td>\n",
              "      <td>12786.932230</td>\n",
              "      <td>13306.619210</td>\n",
              "      <td>15367.029200</td>\n",
              "      <td>17122.479860</td>\n",
              "      <td>18051.522540</td>\n",
              "      <td>20896.609240</td>\n",
              "      <td>21905.595140</td>\n",
              "      <td>25523.277100</td>\n",
              "    </tr>\n",
              "    <tr>\n",
              "      <th>11</th>\n",
              "      <td>Japan</td>\n",
              "      <td>3216.956347</td>\n",
              "      <td>4317.694365</td>\n",
              "      <td>6576.649461</td>\n",
              "      <td>9847.788607</td>\n",
              "      <td>14778.786360</td>\n",
              "      <td>16610.377010</td>\n",
              "      <td>19384.105710</td>\n",
              "      <td>22375.941890</td>\n",
              "      <td>26824.895110</td>\n",
              "      <td>28816.584990</td>\n",
              "      <td>28604.591900</td>\n",
              "      <td>31656.068060</td>\n",
              "    </tr>\n",
              "    <tr>\n",
              "      <th>12</th>\n",
              "      <td>Jordan</td>\n",
              "      <td>1546.907807</td>\n",
              "      <td>1886.080591</td>\n",
              "      <td>2348.009158</td>\n",
              "      <td>2741.796252</td>\n",
              "      <td>2110.856309</td>\n",
              "      <td>2852.351568</td>\n",
              "      <td>4161.415959</td>\n",
              "      <td>4448.679912</td>\n",
              "      <td>3431.593647</td>\n",
              "      <td>3645.379572</td>\n",
              "      <td>3844.917194</td>\n",
              "      <td>4519.461171</td>\n",
              "    </tr>\n",
              "    <tr>\n",
              "      <th>13</th>\n",
              "      <td>Korea Dem. Rep.</td>\n",
              "      <td>1088.277758</td>\n",
              "      <td>1571.134655</td>\n",
              "      <td>1621.693598</td>\n",
              "      <td>2143.540609</td>\n",
              "      <td>3701.621503</td>\n",
              "      <td>4106.301249</td>\n",
              "      <td>4106.525293</td>\n",
              "      <td>4106.492315</td>\n",
              "      <td>3726.063507</td>\n",
              "      <td>1690.756814</td>\n",
              "      <td>1646.758151</td>\n",
              "      <td>1593.065480</td>\n",
              "    </tr>\n",
              "    <tr>\n",
              "      <th>14</th>\n",
              "      <td>Korea Rep.</td>\n",
              "      <td>1030.592226</td>\n",
              "      <td>1487.593537</td>\n",
              "      <td>1536.344387</td>\n",
              "      <td>2029.228142</td>\n",
              "      <td>3030.876650</td>\n",
              "      <td>4657.221020</td>\n",
              "      <td>5622.942464</td>\n",
              "      <td>8533.088805</td>\n",
              "      <td>12104.278720</td>\n",
              "      <td>15993.527960</td>\n",
              "      <td>19233.988180</td>\n",
              "      <td>23348.139730</td>\n",
              "    </tr>\n",
              "    <tr>\n",
              "      <th>15</th>\n",
              "      <td>Kuwait</td>\n",
              "      <td>108382.352900</td>\n",
              "      <td>113523.132900</td>\n",
              "      <td>95458.111760</td>\n",
              "      <td>80894.883260</td>\n",
              "      <td>109347.867000</td>\n",
              "      <td>59265.477140</td>\n",
              "      <td>31354.035730</td>\n",
              "      <td>28118.429980</td>\n",
              "      <td>34932.919590</td>\n",
              "      <td>40300.619960</td>\n",
              "      <td>35110.105660</td>\n",
              "      <td>47306.989780</td>\n",
              "    </tr>\n",
              "    <tr>\n",
              "      <th>16</th>\n",
              "      <td>Lebanon</td>\n",
              "      <td>4834.804067</td>\n",
              "      <td>6089.786934</td>\n",
              "      <td>5714.560611</td>\n",
              "      <td>6006.983042</td>\n",
              "      <td>7486.384341</td>\n",
              "      <td>8659.696836</td>\n",
              "      <td>7640.519521</td>\n",
              "      <td>5377.091329</td>\n",
              "      <td>6890.806854</td>\n",
              "      <td>8754.963850</td>\n",
              "      <td>9313.938830</td>\n",
              "      <td>10461.058680</td>\n",
              "    </tr>\n",
              "    <tr>\n",
              "      <th>17</th>\n",
              "      <td>Malaysia</td>\n",
              "      <td>1831.132894</td>\n",
              "      <td>1810.066992</td>\n",
              "      <td>2036.884944</td>\n",
              "      <td>2277.742396</td>\n",
              "      <td>2849.094780</td>\n",
              "      <td>3827.921571</td>\n",
              "      <td>4920.355951</td>\n",
              "      <td>5249.802653</td>\n",
              "      <td>7277.912802</td>\n",
              "      <td>10132.909640</td>\n",
              "      <td>10206.977940</td>\n",
              "      <td>12451.655800</td>\n",
              "    </tr>\n",
              "    <tr>\n",
              "      <th>18</th>\n",
              "      <td>Mongolia</td>\n",
              "      <td>786.566857</td>\n",
              "      <td>912.662609</td>\n",
              "      <td>1056.353958</td>\n",
              "      <td>1226.041130</td>\n",
              "      <td>1421.741975</td>\n",
              "      <td>1647.511665</td>\n",
              "      <td>2000.603139</td>\n",
              "      <td>2338.008304</td>\n",
              "      <td>1785.402016</td>\n",
              "      <td>1902.252100</td>\n",
              "      <td>2140.739323</td>\n",
              "      <td>3095.772271</td>\n",
              "    </tr>\n",
              "    <tr>\n",
              "      <th>19</th>\n",
              "      <td>Myanmar</td>\n",
              "      <td>331.000000</td>\n",
              "      <td>350.000000</td>\n",
              "      <td>388.000000</td>\n",
              "      <td>349.000000</td>\n",
              "      <td>357.000000</td>\n",
              "      <td>371.000000</td>\n",
              "      <td>424.000000</td>\n",
              "      <td>385.000000</td>\n",
              "      <td>347.000000</td>\n",
              "      <td>415.000000</td>\n",
              "      <td>611.000000</td>\n",
              "      <td>944.000000</td>\n",
              "    </tr>\n",
              "    <tr>\n",
              "      <th>20</th>\n",
              "      <td>Nepal</td>\n",
              "      <td>545.865723</td>\n",
              "      <td>597.936356</td>\n",
              "      <td>652.396859</td>\n",
              "      <td>676.442225</td>\n",
              "      <td>674.788130</td>\n",
              "      <td>694.112440</td>\n",
              "      <td>718.373095</td>\n",
              "      <td>775.632450</td>\n",
              "      <td>897.740360</td>\n",
              "      <td>1010.892138</td>\n",
              "      <td>1057.206311</td>\n",
              "      <td>1091.359778</td>\n",
              "    </tr>\n",
              "    <tr>\n",
              "      <th>21</th>\n",
              "      <td>Oman</td>\n",
              "      <td>1828.230307</td>\n",
              "      <td>2242.746551</td>\n",
              "      <td>2924.638113</td>\n",
              "      <td>4720.942687</td>\n",
              "      <td>10618.038550</td>\n",
              "      <td>11848.343920</td>\n",
              "      <td>12954.791010</td>\n",
              "      <td>18115.223130</td>\n",
              "      <td>18616.706910</td>\n",
              "      <td>19702.055810</td>\n",
              "      <td>19774.836870</td>\n",
              "      <td>22316.192870</td>\n",
              "    </tr>\n",
              "    <tr>\n",
              "      <th>22</th>\n",
              "      <td>Pakistan</td>\n",
              "      <td>684.597144</td>\n",
              "      <td>747.083529</td>\n",
              "      <td>803.342742</td>\n",
              "      <td>942.408259</td>\n",
              "      <td>1049.938981</td>\n",
              "      <td>1175.921193</td>\n",
              "      <td>1443.429832</td>\n",
              "      <td>1704.686583</td>\n",
              "      <td>1971.829464</td>\n",
              "      <td>2049.350521</td>\n",
              "      <td>2092.712441</td>\n",
              "      <td>2605.947580</td>\n",
              "    </tr>\n",
              "    <tr>\n",
              "      <th>23</th>\n",
              "      <td>Philippines</td>\n",
              "      <td>1272.880995</td>\n",
              "      <td>1547.944844</td>\n",
              "      <td>1649.552153</td>\n",
              "      <td>1814.127430</td>\n",
              "      <td>1989.374070</td>\n",
              "      <td>2373.204287</td>\n",
              "      <td>2603.273765</td>\n",
              "      <td>2189.634995</td>\n",
              "      <td>2279.324017</td>\n",
              "      <td>2536.534925</td>\n",
              "      <td>2650.921068</td>\n",
              "      <td>3190.481016</td>\n",
              "    </tr>\n",
              "    <tr>\n",
              "      <th>24</th>\n",
              "      <td>Saudi Arabia</td>\n",
              "      <td>6459.554823</td>\n",
              "      <td>8157.591248</td>\n",
              "      <td>11626.419750</td>\n",
              "      <td>16903.048860</td>\n",
              "      <td>24837.428650</td>\n",
              "      <td>34167.762600</td>\n",
              "      <td>33693.175250</td>\n",
              "      <td>21198.261360</td>\n",
              "      <td>24841.617770</td>\n",
              "      <td>20586.690190</td>\n",
              "      <td>19014.541180</td>\n",
              "      <td>21654.831940</td>\n",
              "    </tr>\n",
              "    <tr>\n",
              "      <th>25</th>\n",
              "      <td>Singapore</td>\n",
              "      <td>2315.138227</td>\n",
              "      <td>2843.104409</td>\n",
              "      <td>3674.735572</td>\n",
              "      <td>4977.418540</td>\n",
              "      <td>8597.756202</td>\n",
              "      <td>11210.089480</td>\n",
              "      <td>15169.161120</td>\n",
              "      <td>18861.530810</td>\n",
              "      <td>24769.891200</td>\n",
              "      <td>33519.476600</td>\n",
              "      <td>36023.105400</td>\n",
              "      <td>47143.179640</td>\n",
              "    </tr>\n",
              "    <tr>\n",
              "      <th>26</th>\n",
              "      <td>Sri Lanka</td>\n",
              "      <td>1083.532030</td>\n",
              "      <td>1072.546602</td>\n",
              "      <td>1074.471960</td>\n",
              "      <td>1135.514326</td>\n",
              "      <td>1213.395530</td>\n",
              "      <td>1348.775651</td>\n",
              "      <td>1648.079789</td>\n",
              "      <td>1876.766827</td>\n",
              "      <td>2153.739222</td>\n",
              "      <td>2664.477257</td>\n",
              "      <td>3015.378833</td>\n",
              "      <td>3970.095407</td>\n",
              "    </tr>\n",
              "    <tr>\n",
              "      <th>27</th>\n",
              "      <td>Syria</td>\n",
              "      <td>1643.485354</td>\n",
              "      <td>2117.234893</td>\n",
              "      <td>2193.037133</td>\n",
              "      <td>1881.923632</td>\n",
              "      <td>2571.423014</td>\n",
              "      <td>3195.484582</td>\n",
              "      <td>3761.837715</td>\n",
              "      <td>3116.774285</td>\n",
              "      <td>3340.542768</td>\n",
              "      <td>4014.238972</td>\n",
              "      <td>4090.925331</td>\n",
              "      <td>4184.548089</td>\n",
              "    </tr>\n",
              "    <tr>\n",
              "      <th>28</th>\n",
              "      <td>Taiwan</td>\n",
              "      <td>1206.947913</td>\n",
              "      <td>1507.861290</td>\n",
              "      <td>1822.879028</td>\n",
              "      <td>2643.858681</td>\n",
              "      <td>4062.523897</td>\n",
              "      <td>5596.519826</td>\n",
              "      <td>7426.354774</td>\n",
              "      <td>11054.561750</td>\n",
              "      <td>15215.657900</td>\n",
              "      <td>20206.820980</td>\n",
              "      <td>23235.423290</td>\n",
              "      <td>28718.276840</td>\n",
              "    </tr>\n",
              "    <tr>\n",
              "      <th>29</th>\n",
              "      <td>Thailand</td>\n",
              "      <td>757.797418</td>\n",
              "      <td>793.577415</td>\n",
              "      <td>1002.199172</td>\n",
              "      <td>1295.460660</td>\n",
              "      <td>1524.358936</td>\n",
              "      <td>1961.224635</td>\n",
              "      <td>2393.219781</td>\n",
              "      <td>2982.653773</td>\n",
              "      <td>4616.896545</td>\n",
              "      <td>5852.625497</td>\n",
              "      <td>5913.187529</td>\n",
              "      <td>7458.396327</td>\n",
              "    </tr>\n",
              "    <tr>\n",
              "      <th>30</th>\n",
              "      <td>Vietnam</td>\n",
              "      <td>605.066492</td>\n",
              "      <td>676.285448</td>\n",
              "      <td>772.049160</td>\n",
              "      <td>637.123289</td>\n",
              "      <td>699.501644</td>\n",
              "      <td>713.537120</td>\n",
              "      <td>707.235786</td>\n",
              "      <td>820.799445</td>\n",
              "      <td>989.023149</td>\n",
              "      <td>1385.896769</td>\n",
              "      <td>1764.456677</td>\n",
              "      <td>2441.576404</td>\n",
              "    </tr>\n",
              "    <tr>\n",
              "      <th>31</th>\n",
              "      <td>West Bank and Gaza</td>\n",
              "      <td>1515.592329</td>\n",
              "      <td>1827.067742</td>\n",
              "      <td>2198.956312</td>\n",
              "      <td>2649.715007</td>\n",
              "      <td>3133.409277</td>\n",
              "      <td>3682.831494</td>\n",
              "      <td>4336.032082</td>\n",
              "      <td>5107.197384</td>\n",
              "      <td>6017.654756</td>\n",
              "      <td>7110.667619</td>\n",
              "      <td>4515.487575</td>\n",
              "      <td>3025.349798</td>\n",
              "    </tr>\n",
              "    <tr>\n",
              "      <th>32</th>\n",
              "      <td>Yemen Rep.</td>\n",
              "      <td>781.717576</td>\n",
              "      <td>804.830455</td>\n",
              "      <td>825.623201</td>\n",
              "      <td>862.442146</td>\n",
              "      <td>1265.047031</td>\n",
              "      <td>1829.765177</td>\n",
              "      <td>1977.557010</td>\n",
              "      <td>1971.741538</td>\n",
              "      <td>1879.496673</td>\n",
              "      <td>2117.484526</td>\n",
              "      <td>2234.820827</td>\n",
              "      <td>2280.769906</td>\n",
              "    </tr>\n",
              "  </tbody>\n",
              "</table>\n",
              "</div>"
            ],
            "text/plain": [
              "               country  gdpPercap_1952  ...  gdpPercap_2002  gdpPercap_2007\n",
              "0          Afghanistan      779.445314  ...      726.734055      974.580338\n",
              "1              Bahrain     9867.084765  ...    23403.559270    29796.048340\n",
              "2           Bangladesh      684.244172  ...     1136.390430     1391.253792\n",
              "3             Cambodia      368.469286  ...      896.226015     1713.778686\n",
              "4                China      400.448611  ...     3119.280896     4959.114854\n",
              "5      Hong Kong China     3054.421209  ...    30209.015160    39724.978670\n",
              "6                India      546.565749  ...     1746.769454     2452.210407\n",
              "7            Indonesia      749.681655  ...     2873.912870     3540.651564\n",
              "8                 Iran     3035.326002  ...     9240.761975    11605.714490\n",
              "9                 Iraq     4129.766056  ...     4390.717312     4471.061906\n",
              "10              Israel     4086.522128  ...    21905.595140    25523.277100\n",
              "11               Japan     3216.956347  ...    28604.591900    31656.068060\n",
              "12              Jordan     1546.907807  ...     3844.917194     4519.461171\n",
              "13     Korea Dem. Rep.     1088.277758  ...     1646.758151     1593.065480\n",
              "14          Korea Rep.     1030.592226  ...    19233.988180    23348.139730\n",
              "15              Kuwait   108382.352900  ...    35110.105660    47306.989780\n",
              "16             Lebanon     4834.804067  ...     9313.938830    10461.058680\n",
              "17            Malaysia     1831.132894  ...    10206.977940    12451.655800\n",
              "18            Mongolia      786.566857  ...     2140.739323     3095.772271\n",
              "19             Myanmar      331.000000  ...      611.000000      944.000000\n",
              "20               Nepal      545.865723  ...     1057.206311     1091.359778\n",
              "21                Oman     1828.230307  ...    19774.836870    22316.192870\n",
              "22            Pakistan      684.597144  ...     2092.712441     2605.947580\n",
              "23         Philippines     1272.880995  ...     2650.921068     3190.481016\n",
              "24        Saudi Arabia     6459.554823  ...    19014.541180    21654.831940\n",
              "25           Singapore     2315.138227  ...    36023.105400    47143.179640\n",
              "26           Sri Lanka     1083.532030  ...     3015.378833     3970.095407\n",
              "27               Syria     1643.485354  ...     4090.925331     4184.548089\n",
              "28              Taiwan     1206.947913  ...    23235.423290    28718.276840\n",
              "29            Thailand      757.797418  ...     5913.187529     7458.396327\n",
              "30             Vietnam      605.066492  ...     1764.456677     2441.576404\n",
              "31  West Bank and Gaza     1515.592329  ...     4515.487575     3025.349798\n",
              "32          Yemen Rep.      781.717576  ...     2234.820827     2280.769906\n",
              "\n",
              "[33 rows x 13 columns]"
            ]
          },
          "metadata": {
            "tags": []
          },
          "execution_count": 54
        }
      ]
    },
    {
      "cell_type": "code",
      "metadata": {
        "id": "yufpS80i_tFp",
        "colab_type": "code",
        "colab": {
          "base_uri": "https://localhost:8080/",
          "height": 167
        },
        "outputId": "92cf724c-19ad-406e-9337-5acb6d29922b"
      },
      "source": [
        "america.head()"
      ],
      "execution_count": 45,
      "outputs": [
        {
          "output_type": "error",
          "ename": "NameError",
          "evalue": "ignored",
          "traceback": [
            "\u001b[0;31m---------------------------------------------------------------------------\u001b[0m",
            "\u001b[0;31mNameError\u001b[0m                                 Traceback (most recent call last)",
            "\u001b[0;32m<ipython-input-45-e2380bf81b7a>\u001b[0m in \u001b[0;36m<module>\u001b[0;34m()\u001b[0m\n\u001b[0;32m----> 1\u001b[0;31m \u001b[0mamerica\u001b[0m\u001b[0;34m.\u001b[0m\u001b[0mhead\u001b[0m\u001b[0;34m(\u001b[0m\u001b[0;34m)\u001b[0m\u001b[0;34m\u001b[0m\u001b[0;34m\u001b[0m\u001b[0m\n\u001b[0m",
            "\u001b[0;31mNameError\u001b[0m: name 'america' is not defined"
          ]
        }
      ]
    },
    {
      "cell_type": "markdown",
      "metadata": {
        "id": "RAYqRGWG6LE8",
        "colab_type": "text"
      },
      "source": [
        "<hr>"
      ]
    },
    {
      "cell_type": "markdown",
      "metadata": {
        "id": "OnDHKcpH6LE8",
        "colab_type": "text"
      },
      "source": [
        "## Reading and filtering data in DataFrames\n",
        "\n",
        "There are many, many ways of accessing data in DataFrames. Here are a few ways--you can read up on other ways at the [Pandas DataFrame documentation](https://pandas.pydata.org/pandas-docs/stable/reference/api/pandas.DataFrame.html) page. It's worth clicking over just to see the variety of functions you can call to handle DataFrames!\n",
        "\n",
        "Here, though, we'll start with accessing information the way you'd expect, by row and column:"
      ]
    },
    {
      "cell_type": "code",
      "metadata": {
        "id": "HUvcD13j6LE9",
        "colab_type": "code",
        "colab": {
          "base_uri": "https://localhost:8080/",
          "height": 34
        },
        "outputId": "ce9089cf-7d85-4e5a-c53a-03af3d0a2079"
      },
      "source": [
        "#         Row, Column\n",
        "data.iloc[0,0]"
      ],
      "execution_count": 30,
      "outputs": [
        {
          "output_type": "execute_result",
          "data": {
            "text/plain": [
              "779.4453145"
            ]
          },
          "metadata": {
            "tags": []
          },
          "execution_count": 30
        }
      ]
    },
    {
      "cell_type": "code",
      "metadata": {
        "id": "wZdwSBAM6LE_",
        "colab_type": "code",
        "colab": {
          "base_uri": "https://localhost:8080/",
          "height": 197
        },
        "outputId": "b83e57ec-8f6f-4255-acde-2352cb266118"
      },
      "source": [
        "data.iloc[0:4,0:2]"
      ],
      "execution_count": 31,
      "outputs": [
        {
          "output_type": "execute_result",
          "data": {
            "text/html": [
              "<div>\n",
              "<style scoped>\n",
              "    .dataframe tbody tr th:only-of-type {\n",
              "        vertical-align: middle;\n",
              "    }\n",
              "\n",
              "    .dataframe tbody tr th {\n",
              "        vertical-align: top;\n",
              "    }\n",
              "\n",
              "    .dataframe thead th {\n",
              "        text-align: right;\n",
              "    }\n",
              "</style>\n",
              "<table border=\"1\" class=\"dataframe\">\n",
              "  <thead>\n",
              "    <tr style=\"text-align: right;\">\n",
              "      <th></th>\n",
              "      <th>gdpPercap_1952</th>\n",
              "      <th>gdpPercap_1957</th>\n",
              "    </tr>\n",
              "    <tr>\n",
              "      <th>country</th>\n",
              "      <th></th>\n",
              "      <th></th>\n",
              "    </tr>\n",
              "  </thead>\n",
              "  <tbody>\n",
              "    <tr>\n",
              "      <th>Afghanistan</th>\n",
              "      <td>779.445314</td>\n",
              "      <td>820.853030</td>\n",
              "    </tr>\n",
              "    <tr>\n",
              "      <th>Bahrain</th>\n",
              "      <td>9867.084765</td>\n",
              "      <td>11635.799450</td>\n",
              "    </tr>\n",
              "    <tr>\n",
              "      <th>Bangladesh</th>\n",
              "      <td>684.244172</td>\n",
              "      <td>661.637458</td>\n",
              "    </tr>\n",
              "    <tr>\n",
              "      <th>Cambodia</th>\n",
              "      <td>368.469286</td>\n",
              "      <td>434.038336</td>\n",
              "    </tr>\n",
              "  </tbody>\n",
              "</table>\n",
              "</div>"
            ],
            "text/plain": [
              "             gdpPercap_1952  gdpPercap_1957\n",
              "country                                    \n",
              "Afghanistan      779.445314      820.853030\n",
              "Bahrain         9867.084765    11635.799450\n",
              "Bangladesh       684.244172      661.637458\n",
              "Cambodia         368.469286      434.038336"
            ]
          },
          "metadata": {
            "tags": []
          },
          "execution_count": 31
        }
      ]
    },
    {
      "cell_type": "code",
      "metadata": {
        "id": "INK_eq3f6LFA",
        "colab_type": "code",
        "colab": {
          "base_uri": "https://localhost:8080/",
          "height": 34
        },
        "outputId": "a26ba66d-0dae-4fc9-ceca-8842cf3e4529"
      },
      "source": [
        "data.loc[\"Afghanistan\",\"gdpPercap_1952\"]"
      ],
      "execution_count": 34,
      "outputs": [
        {
          "output_type": "execute_result",
          "data": {
            "text/plain": [
              "779.4453145"
            ]
          },
          "metadata": {
            "tags": []
          },
          "execution_count": 34
        }
      ]
    },
    {
      "cell_type": "code",
      "metadata": {
        "id": "0cP7xNOo6LFC",
        "colab_type": "code",
        "colab": {
          "base_uri": "https://localhost:8080/",
          "height": 227
        },
        "outputId": "01fe8ead-5ffe-45f2-cd1b-5ff8e8a0d405"
      },
      "source": [
        "data.loc[\"Afghanistan\":\"China\",\"gdpPercap_1952\":\"gdpPercap_1962\"]"
      ],
      "execution_count": 35,
      "outputs": [
        {
          "output_type": "execute_result",
          "data": {
            "text/html": [
              "<div>\n",
              "<style scoped>\n",
              "    .dataframe tbody tr th:only-of-type {\n",
              "        vertical-align: middle;\n",
              "    }\n",
              "\n",
              "    .dataframe tbody tr th {\n",
              "        vertical-align: top;\n",
              "    }\n",
              "\n",
              "    .dataframe thead th {\n",
              "        text-align: right;\n",
              "    }\n",
              "</style>\n",
              "<table border=\"1\" class=\"dataframe\">\n",
              "  <thead>\n",
              "    <tr style=\"text-align: right;\">\n",
              "      <th></th>\n",
              "      <th>gdpPercap_1952</th>\n",
              "      <th>gdpPercap_1957</th>\n",
              "      <th>gdpPercap_1962</th>\n",
              "    </tr>\n",
              "    <tr>\n",
              "      <th>country</th>\n",
              "      <th></th>\n",
              "      <th></th>\n",
              "      <th></th>\n",
              "    </tr>\n",
              "  </thead>\n",
              "  <tbody>\n",
              "    <tr>\n",
              "      <th>Afghanistan</th>\n",
              "      <td>779.445314</td>\n",
              "      <td>820.853030</td>\n",
              "      <td>853.100710</td>\n",
              "    </tr>\n",
              "    <tr>\n",
              "      <th>Bahrain</th>\n",
              "      <td>9867.084765</td>\n",
              "      <td>11635.799450</td>\n",
              "      <td>12753.275140</td>\n",
              "    </tr>\n",
              "    <tr>\n",
              "      <th>Bangladesh</th>\n",
              "      <td>684.244172</td>\n",
              "      <td>661.637458</td>\n",
              "      <td>686.341554</td>\n",
              "    </tr>\n",
              "    <tr>\n",
              "      <th>Cambodia</th>\n",
              "      <td>368.469286</td>\n",
              "      <td>434.038336</td>\n",
              "      <td>496.913648</td>\n",
              "    </tr>\n",
              "    <tr>\n",
              "      <th>China</th>\n",
              "      <td>400.448611</td>\n",
              "      <td>575.987001</td>\n",
              "      <td>487.674018</td>\n",
              "    </tr>\n",
              "  </tbody>\n",
              "</table>\n",
              "</div>"
            ],
            "text/plain": [
              "             gdpPercap_1952  gdpPercap_1957  gdpPercap_1962\n",
              "country                                                    \n",
              "Afghanistan      779.445314      820.853030      853.100710\n",
              "Bahrain         9867.084765    11635.799450    12753.275140\n",
              "Bangladesh       684.244172      661.637458      686.341554\n",
              "Cambodia         368.469286      434.038336      496.913648\n",
              "China            400.448611      575.987001      487.674018"
            ]
          },
          "metadata": {
            "tags": []
          },
          "execution_count": 35
        }
      ]
    },
    {
      "cell_type": "code",
      "metadata": {
        "id": "jVdpGvO26LFF",
        "colab_type": "code",
        "colab": {
          "base_uri": "https://localhost:8080/",
          "height": 34
        },
        "outputId": "0b403f37-fba1-4bf7-fd02-86fc8d956387"
      },
      "source": [
        "data.loc[\"China\",\"gdpPercap_1962\"]"
      ],
      "execution_count": 40,
      "outputs": [
        {
          "output_type": "execute_result",
          "data": {
            "text/plain": [
              "487.6740183"
            ]
          },
          "metadata": {
            "tags": []
          },
          "execution_count": 40
        }
      ]
    },
    {
      "cell_type": "code",
      "metadata": {
        "id": "H4_Mcr5d6LFK",
        "colab_type": "code",
        "colab": {
          "base_uri": "https://localhost:8080/",
          "height": 167
        },
        "outputId": "684da35f-3896-47a8-db06-969e7acf1370"
      },
      "source": [
        "rowsToShow = [\"China\",\"India\",\"Singapore\"]\n",
        "colsToShow = [\"gdpPercap_1952\",\"gdpPercap_2002\"]\n",
        "\n",
        "data.loc[rowsToShow,colsToShow]"
      ],
      "execution_count": 42,
      "outputs": [
        {
          "output_type": "execute_result",
          "data": {
            "text/html": [
              "<div>\n",
              "<style scoped>\n",
              "    .dataframe tbody tr th:only-of-type {\n",
              "        vertical-align: middle;\n",
              "    }\n",
              "\n",
              "    .dataframe tbody tr th {\n",
              "        vertical-align: top;\n",
              "    }\n",
              "\n",
              "    .dataframe thead th {\n",
              "        text-align: right;\n",
              "    }\n",
              "</style>\n",
              "<table border=\"1\" class=\"dataframe\">\n",
              "  <thead>\n",
              "    <tr style=\"text-align: right;\">\n",
              "      <th></th>\n",
              "      <th>gdpPercap_1952</th>\n",
              "      <th>gdpPercap_2002</th>\n",
              "    </tr>\n",
              "    <tr>\n",
              "      <th>country</th>\n",
              "      <th></th>\n",
              "      <th></th>\n",
              "    </tr>\n",
              "  </thead>\n",
              "  <tbody>\n",
              "    <tr>\n",
              "      <th>China</th>\n",
              "      <td>400.448611</td>\n",
              "      <td>3119.280896</td>\n",
              "    </tr>\n",
              "    <tr>\n",
              "      <th>India</th>\n",
              "      <td>546.565749</td>\n",
              "      <td>1746.769454</td>\n",
              "    </tr>\n",
              "    <tr>\n",
              "      <th>Singapore</th>\n",
              "      <td>2315.138227</td>\n",
              "      <td>36023.105400</td>\n",
              "    </tr>\n",
              "  </tbody>\n",
              "</table>\n",
              "</div>"
            ],
            "text/plain": [
              "           gdpPercap_1952  gdpPercap_2002\n",
              "country                                  \n",
              "China          400.448611     3119.280896\n",
              "India          546.565749     1746.769454\n",
              "Singapore     2315.138227    36023.105400"
            ]
          },
          "metadata": {
            "tags": []
          },
          "execution_count": 42
        }
      ]
    },
    {
      "cell_type": "code",
      "metadata": {
        "id": "-_L1TDPh6LFL",
        "colab_type": "code",
        "colab": {
          "base_uri": "https://localhost:8080/",
          "height": 167
        },
        "outputId": "d66e4c0c-682c-4bfe-f373-af36f2e1db04"
      },
      "source": [
        "data.loc[[\"China\",\"India\",\"Singapore\"],[\"gdpPercap_1952\",\"gdpPercap_2002\"]]"
      ],
      "execution_count": 43,
      "outputs": [
        {
          "output_type": "execute_result",
          "data": {
            "text/html": [
              "<div>\n",
              "<style scoped>\n",
              "    .dataframe tbody tr th:only-of-type {\n",
              "        vertical-align: middle;\n",
              "    }\n",
              "\n",
              "    .dataframe tbody tr th {\n",
              "        vertical-align: top;\n",
              "    }\n",
              "\n",
              "    .dataframe thead th {\n",
              "        text-align: right;\n",
              "    }\n",
              "</style>\n",
              "<table border=\"1\" class=\"dataframe\">\n",
              "  <thead>\n",
              "    <tr style=\"text-align: right;\">\n",
              "      <th></th>\n",
              "      <th>gdpPercap_1952</th>\n",
              "      <th>gdpPercap_2002</th>\n",
              "    </tr>\n",
              "    <tr>\n",
              "      <th>country</th>\n",
              "      <th></th>\n",
              "      <th></th>\n",
              "    </tr>\n",
              "  </thead>\n",
              "  <tbody>\n",
              "    <tr>\n",
              "      <th>China</th>\n",
              "      <td>400.448611</td>\n",
              "      <td>3119.280896</td>\n",
              "    </tr>\n",
              "    <tr>\n",
              "      <th>India</th>\n",
              "      <td>546.565749</td>\n",
              "      <td>1746.769454</td>\n",
              "    </tr>\n",
              "    <tr>\n",
              "      <th>Singapore</th>\n",
              "      <td>2315.138227</td>\n",
              "      <td>36023.105400</td>\n",
              "    </tr>\n",
              "  </tbody>\n",
              "</table>\n",
              "</div>"
            ],
            "text/plain": [
              "           gdpPercap_1952  gdpPercap_2002\n",
              "country                                  \n",
              "China          400.448611     3119.280896\n",
              "India          546.565749     1746.769454\n",
              "Singapore     2315.138227    36023.105400"
            ]
          },
          "metadata": {
            "tags": []
          },
          "execution_count": 43
        }
      ]
    },
    {
      "cell_type": "code",
      "metadata": {
        "id": "fPZ2oBQz6LFN",
        "colab_type": "code",
        "colab": {
          "base_uri": "https://localhost:8080/",
          "height": 34
        },
        "outputId": "28cd1dcf-3ca7-4dc2-8c6d-e4d43b1e8456"
      },
      "source": [
        "for i in range(1, 6):\n",
        "  exec(\"line_dict_%s = { 'a': 1 }\" % i)\n",
        "\n",
        "print (line_dict_1)"
      ],
      "execution_count": 48,
      "outputs": [
        {
          "output_type": "stream",
          "text": [
            "{'a': 1}\n"
          ],
          "name": "stdout"
        }
      ]
    },
    {
      "cell_type": "code",
      "metadata": {
        "id": "jqhxUZ926LFO",
        "colab_type": "code",
        "colab": {}
      },
      "source": [
        ""
      ],
      "execution_count": 0,
      "outputs": []
    },
    {
      "cell_type": "code",
      "metadata": {
        "id": "9Z-d6QPo6LFP",
        "colab_type": "code",
        "colab": {}
      },
      "source": [
        ""
      ],
      "execution_count": 0,
      "outputs": []
    },
    {
      "cell_type": "code",
      "metadata": {
        "id": "DN0ZugKx6LFR",
        "colab_type": "code",
        "colab": {}
      },
      "source": [
        ""
      ],
      "execution_count": 0,
      "outputs": []
    },
    {
      "cell_type": "code",
      "metadata": {
        "scrolled": true,
        "id": "DEGwsj9s6LFS",
        "colab_type": "code",
        "colab": {}
      },
      "source": [
        ""
      ],
      "execution_count": 0,
      "outputs": []
    },
    {
      "cell_type": "markdown",
      "metadata": {
        "id": "6D0GDK7d6LFU",
        "colab_type": "text"
      },
      "source": [
        "### <font color=\"red\">Exercise 2: Get data\n",
        "\n",
        "Import the necessary CSV file, and set up a DataFrame for the GDP data of Canada, the United States, and Mexico for last decade. Your result should look like this:"
      ]
    },
    {
      "cell_type": "markdown",
      "metadata": {
        "id": "FqTxPf5J6LFU",
        "colab_type": "raw"
      },
      "source": [
        "               gdpPercap_2002  gdpPercap_2007\n",
        "country                                      \n",
        "Canada            33328.96507     36319.23501\n",
        "United States     39097.09955     42951.65309\n",
        "Mexico            10742.44053     11977.57496"
      ]
    },
    {
      "cell_type": "code",
      "metadata": {
        "id": "kOmA5vOV6LFV",
        "colab_type": "code",
        "colab": {
          "base_uri": "https://localhost:8080/",
          "height": 167
        },
        "outputId": "22e38480-dd14-4d98-a036-3a5f42d0136f"
      },
      "source": [
        "data_americas\n",
        "\n",
        "rowsToShow = [\"Canada\",\"United States\",\"Mexico\"]\n",
        "colsToShow = [\"gdpPercap_2002\",\"gdpPercap_2007\"]\n",
        "\n",
        "data_americas.loc[rowsToShow,colsToShow]"
      ],
      "execution_count": 68,
      "outputs": [
        {
          "output_type": "execute_result",
          "data": {
            "text/html": [
              "<div>\n",
              "<style scoped>\n",
              "    .dataframe tbody tr th:only-of-type {\n",
              "        vertical-align: middle;\n",
              "    }\n",
              "\n",
              "    .dataframe tbody tr th {\n",
              "        vertical-align: top;\n",
              "    }\n",
              "\n",
              "    .dataframe thead th {\n",
              "        text-align: right;\n",
              "    }\n",
              "</style>\n",
              "<table border=\"1\" class=\"dataframe\">\n",
              "  <thead>\n",
              "    <tr style=\"text-align: right;\">\n",
              "      <th></th>\n",
              "      <th>gdpPercap_2002</th>\n",
              "      <th>gdpPercap_2007</th>\n",
              "    </tr>\n",
              "    <tr>\n",
              "      <th>country</th>\n",
              "      <th></th>\n",
              "      <th></th>\n",
              "    </tr>\n",
              "  </thead>\n",
              "  <tbody>\n",
              "    <tr>\n",
              "      <th>Canada</th>\n",
              "      <td>33328.96507</td>\n",
              "      <td>36319.23501</td>\n",
              "    </tr>\n",
              "    <tr>\n",
              "      <th>United States</th>\n",
              "      <td>39097.09955</td>\n",
              "      <td>42951.65309</td>\n",
              "    </tr>\n",
              "    <tr>\n",
              "      <th>Mexico</th>\n",
              "      <td>10742.44053</td>\n",
              "      <td>11977.57496</td>\n",
              "    </tr>\n",
              "  </tbody>\n",
              "</table>\n",
              "</div>"
            ],
            "text/plain": [
              "               gdpPercap_2002  gdpPercap_2007\n",
              "country                                      \n",
              "Canada            33328.96507     36319.23501\n",
              "United States     39097.09955     42951.65309\n",
              "Mexico            10742.44053     11977.57496"
            ]
          },
          "metadata": {
            "tags": []
          },
          "execution_count": 68
        }
      ]
    },
    {
      "cell_type": "markdown",
      "metadata": {
        "id": "3Q4_1kTD6LFW",
        "colab_type": "text"
      },
      "source": [
        "<hr>"
      ]
    },
    {
      "cell_type": "markdown",
      "metadata": {
        "id": "xcWPEti_6LFX",
        "colab_type": "text"
      },
      "source": [
        "## Filtering data\n",
        "\n",
        "Here's one of the most powerful features of DataFrames--being able to quickly work with large chunks of data. If you had to do this with for loops, it'd be a bit of pain to filter everything out item by item, not to mention having to reconstruct your lists one by one."
      ]
    },
    {
      "cell_type": "code",
      "metadata": {
        "id": "10w8pdhx6LFX",
        "colab_type": "code",
        "colab": {
          "base_uri": "https://localhost:8080/",
          "height": 141
        },
        "outputId": "76a7826c-f62c-4c66-ae77-d87b5ac88f12"
      },
      "source": [
        "subset = data.loc[\"Afghanistan\":\"China\", \"gdpPercap_1952\"]\n",
        "subset"
      ],
      "execution_count": 69,
      "outputs": [
        {
          "output_type": "execute_result",
          "data": {
            "text/plain": [
              "country\n",
              "Afghanistan     779.445314\n",
              "Bahrain        9867.084765\n",
              "Bangladesh      684.244172\n",
              "Cambodia        368.469286\n",
              "China           400.448611\n",
              "Name: gdpPercap_1952, dtype: float64"
            ]
          },
          "metadata": {
            "tags": []
          },
          "execution_count": 69
        }
      ]
    },
    {
      "cell_type": "code",
      "metadata": {
        "id": "VHMy1MMr6LFZ",
        "colab_type": "code",
        "colab": {
          "base_uri": "https://localhost:8080/",
          "height": 141
        },
        "outputId": "fb08f76d-bc5f-4202-8af8-3c6af791ca83"
      },
      "source": [
        "subset > 500"
      ],
      "execution_count": 70,
      "outputs": [
        {
          "output_type": "execute_result",
          "data": {
            "text/plain": [
              "country\n",
              "Afghanistan     True\n",
              "Bahrain         True\n",
              "Bangladesh      True\n",
              "Cambodia       False\n",
              "China          False\n",
              "Name: gdpPercap_1952, dtype: bool"
            ]
          },
          "metadata": {
            "tags": []
          },
          "execution_count": 70
        }
      ]
    },
    {
      "cell_type": "code",
      "metadata": {
        "id": "ywfqewv86LFb",
        "colab_type": "code",
        "colab": {
          "base_uri": "https://localhost:8080/",
          "height": 105
        },
        "outputId": "e5ddd37e-0163-4a2f-e5d7-a1d38d91e758"
      },
      "source": [
        "condition = subset > 500\n",
        "subset[condition]"
      ],
      "execution_count": 72,
      "outputs": [
        {
          "output_type": "execute_result",
          "data": {
            "text/plain": [
              "country\n",
              "Afghanistan     779.445314\n",
              "Bahrain        9867.084765\n",
              "Bangladesh      684.244172\n",
              "Name: gdpPercap_1952, dtype: float64"
            ]
          },
          "metadata": {
            "tags": []
          },
          "execution_count": 72
        }
      ]
    },
    {
      "cell_type": "code",
      "metadata": {
        "id": "-3yXTJB36LFd",
        "colab_type": "code",
        "colab": {}
      },
      "source": [
        ""
      ],
      "execution_count": 0,
      "outputs": []
    },
    {
      "cell_type": "markdown",
      "metadata": {
        "id": "NC2IQe0a6LFe",
        "colab_type": "text"
      },
      "source": [
        "## More Filtering\n",
        "\n",
        "Take a look at what's being done, and try to figure it out, particularly when it comes to the two-condition criteria!"
      ]
    },
    {
      "cell_type": "code",
      "metadata": {
        "id": "mToEwg3X6LFf",
        "colab_type": "code",
        "colab": {}
      },
      "source": [
        "# Can you figure out what's being done in the below code? \n",
        "\n",
        "#dataAll = pd.read_csv(\"gdp_pop_all.csv\", index_col = \"country\")\n",
        "dataAll = data_pop_all\n",
        "\n",
        "print(len(dataAll))\n",
        "\n",
        "print(dataAll[\"continent\"])       # 1st method\n",
        "print(dataAll.loc[:,\"continent\"]) # 2nd method\n",
        "print(dataAll.continent)          # 3rd method\n",
        "\n",
        "\"\"\"\n",
        "Datafram syntaxes:\n",
        "and - &\n",
        "or  - |\n",
        "\n",
        "Add new column:\n",
        "var[\"columnName\"] = var\n",
        "\"\"\"\n",
        "\n",
        "\n",
        "criteria = (dataAll[\"continent\"] == \"Asia\") & (dataAll[\"gdpPercap_2007\"] > 9000)  # criteria: in Asia and GDP Per Cap in 2007 is more than 9000\n",
        "# specifying 2 conditions: continent == Asia, gdpPercap > 9000\n",
        "\n",
        "dataAll[\"gdp_2007\"] = dataAll[\"gdpPercap_2007\"] * dataAll[\"pop_2007\"]             # calculates the overall GDP in 2007 by muliplying the GDP Per Cap with the total population in 2007 and add a column for it\n",
        "# creates a new column called gdp_2007 that calcs the ACTUAL GDP\n",
        "\n",
        "print (dataAll[\"gdp_2007\"])\n",
        "dataAll[criteria][[\"gdpPercap_2007\",\"pop_2007\", \"gdp_2007\"]]\n",
        "# filter the dataframe based off criteria, then print out only 3 columns\n",
        "\n",
        "\"\"\"\n",
        "In Simpler Words\n",
        "colsToShow = [\"gdpPercap_2007\",\"pop_2007\", \"gdp_2007\"]\n",
        "subset = dataAll[criteria]\n",
        "subset [colsToShow]\n",
        "\"\"\"\n"
      ],
      "execution_count": 0,
      "outputs": []
    },
    {
      "cell_type": "code",
      "metadata": {
        "id": "JuCkC2ScNXEE",
        "colab_type": "code",
        "colab": {
          "base_uri": "https://localhost:8080/",
          "height": 197
        },
        "outputId": "349d7c8e-f93d-45ed-cb35-132d9c75d2e3"
      },
      "source": [
        "rows_to_show = [\"Singapore\", \"Malaysia\"]\n",
        "cols_to_show = [\"gdpPercap_1952\", \"gdpPercap_1957\"]\n",
        "subset1 = data.loc[rows_to_show, cols_to_show]\n",
        "\n",
        "rows_to_show = [\"Thailand\", \"Indonesia\"]\n",
        "cols_to_show = [\"gdpPercap_1952\", \"gdpPercap_1957\"]\n",
        "subset2 = data.loc[rows_to_show, cols_to_show]\n",
        "\n",
        "rows_to_show = [\"Thailand\", \"Indonesia\"]\n",
        "cols_to_show = [\"gdpPercap_2002\", \"gdpPercap_2007\"]\n",
        "subset3 = data.loc[rows_to_show, cols_to_show]\n",
        "\n",
        "newSubset = subset1.append(subset2)\n",
        "newSubset\n",
        "\n",
        "newSubset2 = subset1.append(subset3, sort=False)\n",
        "newSubset2"
      ],
      "execution_count": 102,
      "outputs": [
        {
          "output_type": "execute_result",
          "data": {
            "text/html": [
              "<div>\n",
              "<style scoped>\n",
              "    .dataframe tbody tr th:only-of-type {\n",
              "        vertical-align: middle;\n",
              "    }\n",
              "\n",
              "    .dataframe tbody tr th {\n",
              "        vertical-align: top;\n",
              "    }\n",
              "\n",
              "    .dataframe thead th {\n",
              "        text-align: right;\n",
              "    }\n",
              "</style>\n",
              "<table border=\"1\" class=\"dataframe\">\n",
              "  <thead>\n",
              "    <tr style=\"text-align: right;\">\n",
              "      <th></th>\n",
              "      <th>gdpPercap_1952</th>\n",
              "      <th>gdpPercap_1957</th>\n",
              "      <th>gdpPercap_2002</th>\n",
              "      <th>gdpPercap_2007</th>\n",
              "    </tr>\n",
              "    <tr>\n",
              "      <th>country</th>\n",
              "      <th></th>\n",
              "      <th></th>\n",
              "      <th></th>\n",
              "      <th></th>\n",
              "    </tr>\n",
              "  </thead>\n",
              "  <tbody>\n",
              "    <tr>\n",
              "      <th>Singapore</th>\n",
              "      <td>2315.138227</td>\n",
              "      <td>2843.104409</td>\n",
              "      <td>NaN</td>\n",
              "      <td>NaN</td>\n",
              "    </tr>\n",
              "    <tr>\n",
              "      <th>Malaysia</th>\n",
              "      <td>1831.132894</td>\n",
              "      <td>1810.066992</td>\n",
              "      <td>NaN</td>\n",
              "      <td>NaN</td>\n",
              "    </tr>\n",
              "    <tr>\n",
              "      <th>Thailand</th>\n",
              "      <td>NaN</td>\n",
              "      <td>NaN</td>\n",
              "      <td>5913.187529</td>\n",
              "      <td>7458.396327</td>\n",
              "    </tr>\n",
              "    <tr>\n",
              "      <th>Indonesia</th>\n",
              "      <td>NaN</td>\n",
              "      <td>NaN</td>\n",
              "      <td>2873.912870</td>\n",
              "      <td>3540.651564</td>\n",
              "    </tr>\n",
              "  </tbody>\n",
              "</table>\n",
              "</div>"
            ],
            "text/plain": [
              "           gdpPercap_1952  gdpPercap_1957  gdpPercap_2002  gdpPercap_2007\n",
              "country                                                                  \n",
              "Singapore     2315.138227     2843.104409             NaN             NaN\n",
              "Malaysia      1831.132894     1810.066992             NaN             NaN\n",
              "Thailand              NaN             NaN     5913.187529     7458.396327\n",
              "Indonesia             NaN             NaN     2873.912870     3540.651564"
            ]
          },
          "metadata": {
            "tags": []
          },
          "execution_count": 102
        }
      ]
    },
    {
      "cell_type": "markdown",
      "metadata": {
        "id": "Ry8sIHPtNWzx",
        "colab_type": "text"
      },
      "source": [
        ""
      ]
    },
    {
      "cell_type": "markdown",
      "metadata": {
        "id": "Auv12eJt6LFi",
        "colab_type": "text"
      },
      "source": [
        "### <font color=\"red\">Exercise 3: African data and filtering\n",
        "\n",
        "* Read data from the Africa file\n",
        "* Find the Per Capita GDP of Egypt in 2007\n",
        "* Find countries whose Per Capita GDP exceeded Egypt's that year. \n",
        "\n",
        "There should be 9 countries."
      ]
    },
    {
      "cell_type": "code",
      "metadata": {
        "id": "p6iJlTxV6LFi",
        "colab_type": "code",
        "colab": {}
      },
      "source": [
        "data_africa"
      ],
      "execution_count": 0,
      "outputs": []
    },
    {
      "cell_type": "code",
      "metadata": {
        "id": "gu1o1kOK6LFk",
        "colab_type": "code",
        "colab": {
          "base_uri": "https://localhost:8080/",
          "height": 34
        },
        "outputId": "77365e01-6c9c-4c16-95f1-c934b78e0e6d"
      },
      "source": [
        "data_africa.loc[\"Egypt\",\"gdpPercap_2007\"]"
      ],
      "execution_count": 113,
      "outputs": [
        {
          "output_type": "execute_result",
          "data": {
            "text/plain": [
              "5581.180998"
            ]
          },
          "metadata": {
            "tags": []
          },
          "execution_count": 113
        }
      ]
    },
    {
      "cell_type": "code",
      "metadata": {
        "id": "AlWCUqf8OnUO",
        "colab_type": "code",
        "colab": {
          "base_uri": "https://localhost:8080/",
          "height": 212
        },
        "outputId": "52b3c602-4acd-4185-d300-6d7cbb793ce6"
      },
      "source": [
        "subset = data_africa.loc[:,\"gdpPercap_2007\"]\n",
        "condition = subset > data_africa.loc[\"Egypt\",\"gdpPercap_2007\"]\n",
        "countriesExEgypt = subset [condition]\n",
        "for i in countriesExEgypt.index:\n",
        "  print (i)\n",
        "print (\"\\nTotal number of countries:\",len(countriesExEgypt))\n"
      ],
      "execution_count": 132,
      "outputs": [
        {
          "output_type": "stream",
          "text": [
            "Algeria\n",
            "Botswana\n",
            "Equatorial Guinea\n",
            "Gabon\n",
            "Libya\n",
            "Mauritius\n",
            "Reunion\n",
            "South Africa\n",
            "Tunisia\n",
            "\n",
            "Total number of countries: 9\n"
          ],
          "name": "stdout"
        }
      ]
    },
    {
      "cell_type": "markdown",
      "metadata": {
        "id": "03lnXo-vTKyW",
        "colab_type": "text"
      },
      "source": [
        "Teachers solution: "
      ]
    },
    {
      "cell_type": "code",
      "metadata": {
        "id": "U_Jg9yyvTM1V",
        "colab_type": "code",
        "colab": {
          "base_uri": "https://localhost:8080/",
          "height": 347
        },
        "outputId": "a5097ba8-5f02-4fc4-ee03-a31df3dc45a3"
      },
      "source": [
        "#africa = pd.read_csv(\"gdp_africa.csv\", index_col=\"country\")\n",
        "africa = data_africa\n",
        "\n",
        "egypt2007 = africa.loc[\"Egypt\", \"gdpPercap_2007\"]\n",
        "\n",
        "condition = africa[\"gdpPercap_2007\"] > egypt2007\n",
        "africa[condition]"
      ],
      "execution_count": 140,
      "outputs": [
        {
          "output_type": "execute_result",
          "data": {
            "text/html": [
              "<div>\n",
              "<style scoped>\n",
              "    .dataframe tbody tr th:only-of-type {\n",
              "        vertical-align: middle;\n",
              "    }\n",
              "\n",
              "    .dataframe tbody tr th {\n",
              "        vertical-align: top;\n",
              "    }\n",
              "\n",
              "    .dataframe thead th {\n",
              "        text-align: right;\n",
              "    }\n",
              "</style>\n",
              "<table border=\"1\" class=\"dataframe\">\n",
              "  <thead>\n",
              "    <tr style=\"text-align: right;\">\n",
              "      <th></th>\n",
              "      <th>gdpPercap_1952</th>\n",
              "      <th>gdpPercap_1957</th>\n",
              "      <th>gdpPercap_1962</th>\n",
              "      <th>gdpPercap_1967</th>\n",
              "      <th>gdpPercap_1972</th>\n",
              "      <th>gdpPercap_1977</th>\n",
              "      <th>gdpPercap_1982</th>\n",
              "      <th>gdpPercap_1987</th>\n",
              "      <th>gdpPercap_1992</th>\n",
              "      <th>gdpPercap_1997</th>\n",
              "      <th>gdpPercap_2002</th>\n",
              "      <th>gdpPercap_2007</th>\n",
              "    </tr>\n",
              "    <tr>\n",
              "      <th>country</th>\n",
              "      <th></th>\n",
              "      <th></th>\n",
              "      <th></th>\n",
              "      <th></th>\n",
              "      <th></th>\n",
              "      <th></th>\n",
              "      <th></th>\n",
              "      <th></th>\n",
              "      <th></th>\n",
              "      <th></th>\n",
              "      <th></th>\n",
              "      <th></th>\n",
              "    </tr>\n",
              "  </thead>\n",
              "  <tbody>\n",
              "    <tr>\n",
              "      <th>Algeria</th>\n",
              "      <td>2449.008185</td>\n",
              "      <td>3013.976023</td>\n",
              "      <td>2550.816880</td>\n",
              "      <td>3246.991771</td>\n",
              "      <td>4182.663766</td>\n",
              "      <td>4910.416756</td>\n",
              "      <td>5745.160213</td>\n",
              "      <td>5681.358539</td>\n",
              "      <td>5023.216647</td>\n",
              "      <td>4797.295051</td>\n",
              "      <td>5288.040382</td>\n",
              "      <td>6223.367465</td>\n",
              "    </tr>\n",
              "    <tr>\n",
              "      <th>Botswana</th>\n",
              "      <td>851.241141</td>\n",
              "      <td>918.232535</td>\n",
              "      <td>983.653976</td>\n",
              "      <td>1214.709294</td>\n",
              "      <td>2263.611114</td>\n",
              "      <td>3214.857818</td>\n",
              "      <td>4551.142150</td>\n",
              "      <td>6205.883850</td>\n",
              "      <td>7954.111645</td>\n",
              "      <td>8647.142313</td>\n",
              "      <td>11003.605080</td>\n",
              "      <td>12569.851770</td>\n",
              "    </tr>\n",
              "    <tr>\n",
              "      <th>Equatorial Guinea</th>\n",
              "      <td>375.643123</td>\n",
              "      <td>426.096408</td>\n",
              "      <td>582.841971</td>\n",
              "      <td>915.596003</td>\n",
              "      <td>672.412257</td>\n",
              "      <td>958.566812</td>\n",
              "      <td>927.825343</td>\n",
              "      <td>966.896815</td>\n",
              "      <td>1132.055034</td>\n",
              "      <td>2814.480755</td>\n",
              "      <td>7703.495900</td>\n",
              "      <td>12154.089750</td>\n",
              "    </tr>\n",
              "    <tr>\n",
              "      <th>Gabon</th>\n",
              "      <td>4293.476475</td>\n",
              "      <td>4976.198099</td>\n",
              "      <td>6631.459222</td>\n",
              "      <td>8358.761987</td>\n",
              "      <td>11401.948410</td>\n",
              "      <td>21745.573280</td>\n",
              "      <td>15113.361940</td>\n",
              "      <td>11864.408440</td>\n",
              "      <td>13522.157520</td>\n",
              "      <td>14722.841880</td>\n",
              "      <td>12521.713920</td>\n",
              "      <td>13206.484520</td>\n",
              "    </tr>\n",
              "    <tr>\n",
              "      <th>Libya</th>\n",
              "      <td>2387.548060</td>\n",
              "      <td>3448.284395</td>\n",
              "      <td>6757.030816</td>\n",
              "      <td>18772.751690</td>\n",
              "      <td>21011.497210</td>\n",
              "      <td>21951.211760</td>\n",
              "      <td>17364.275380</td>\n",
              "      <td>11770.589800</td>\n",
              "      <td>9640.138501</td>\n",
              "      <td>9467.446056</td>\n",
              "      <td>9534.677467</td>\n",
              "      <td>12057.499280</td>\n",
              "    </tr>\n",
              "    <tr>\n",
              "      <th>Mauritius</th>\n",
              "      <td>1967.955707</td>\n",
              "      <td>2034.037981</td>\n",
              "      <td>2529.067487</td>\n",
              "      <td>2475.387562</td>\n",
              "      <td>2575.484158</td>\n",
              "      <td>3710.982963</td>\n",
              "      <td>3688.037739</td>\n",
              "      <td>4783.586903</td>\n",
              "      <td>6058.253846</td>\n",
              "      <td>7425.705295</td>\n",
              "      <td>9021.815894</td>\n",
              "      <td>10956.991120</td>\n",
              "    </tr>\n",
              "    <tr>\n",
              "      <th>Reunion</th>\n",
              "      <td>2718.885295</td>\n",
              "      <td>2769.451844</td>\n",
              "      <td>3173.723340</td>\n",
              "      <td>4021.175739</td>\n",
              "      <td>5047.658563</td>\n",
              "      <td>4319.804067</td>\n",
              "      <td>5267.219353</td>\n",
              "      <td>5303.377488</td>\n",
              "      <td>6101.255823</td>\n",
              "      <td>6071.941411</td>\n",
              "      <td>6316.165200</td>\n",
              "      <td>7670.122558</td>\n",
              "    </tr>\n",
              "    <tr>\n",
              "      <th>South Africa</th>\n",
              "      <td>4725.295531</td>\n",
              "      <td>5487.104219</td>\n",
              "      <td>5768.729717</td>\n",
              "      <td>7114.477971</td>\n",
              "      <td>7765.962636</td>\n",
              "      <td>8028.651439</td>\n",
              "      <td>8568.266228</td>\n",
              "      <td>7825.823398</td>\n",
              "      <td>7225.069258</td>\n",
              "      <td>7479.188244</td>\n",
              "      <td>7710.946444</td>\n",
              "      <td>9269.657808</td>\n",
              "    </tr>\n",
              "    <tr>\n",
              "      <th>Tunisia</th>\n",
              "      <td>1468.475631</td>\n",
              "      <td>1395.232468</td>\n",
              "      <td>1660.303210</td>\n",
              "      <td>1932.360167</td>\n",
              "      <td>2753.285994</td>\n",
              "      <td>3120.876811</td>\n",
              "      <td>3560.233174</td>\n",
              "      <td>3810.419296</td>\n",
              "      <td>4332.720164</td>\n",
              "      <td>4876.798614</td>\n",
              "      <td>5722.895655</td>\n",
              "      <td>7092.923025</td>\n",
              "    </tr>\n",
              "  </tbody>\n",
              "</table>\n",
              "</div>"
            ],
            "text/plain": [
              "                   gdpPercap_1952  ...  gdpPercap_2007\n",
              "country                            ...                \n",
              "Algeria               2449.008185  ...     6223.367465\n",
              "Botswana               851.241141  ...    12569.851770\n",
              "Equatorial Guinea      375.643123  ...    12154.089750\n",
              "Gabon                 4293.476475  ...    13206.484520\n",
              "Libya                 2387.548060  ...    12057.499280\n",
              "Mauritius             1967.955707  ...    10956.991120\n",
              "Reunion               2718.885295  ...     7670.122558\n",
              "South Africa          4725.295531  ...     9269.657808\n",
              "Tunisia               1468.475631  ...     7092.923025\n",
              "\n",
              "[9 rows x 12 columns]"
            ]
          },
          "metadata": {
            "tags": []
          },
          "execution_count": 140
        }
      ]
    },
    {
      "cell_type": "markdown",
      "metadata": {
        "id": "aI2OHNNi6LFm",
        "colab_type": "text"
      },
      "source": [
        "### <font color=\"red\">Exercise 4: What does this do? \n",
        "\n",
        "What do each of the lines in this chunk of code do? Run it, find out, and explain to someone sitting next to you."
      ]
    },
    {
      "cell_type": "code",
      "metadata": {
        "id": "-KH6o1h_6LFn",
        "colab_type": "code",
        "colab": {
          "base_uri": "https://localhost:8080/",
          "height": 1000
        },
        "outputId": "7f238c69-38f8-4e22-cfc8-49eb84bb78df"
      },
      "source": [
        "#first = pd.read_csv('gdp_pop_all.csv', index_col='country')\n",
        "first = data_pop_all                                # imports data\n",
        "# imports the CSV file, set the index col\n",
        "\n",
        "second = first[first['continent'] == 'Americas']    # adds all the countries in Americas into a new dataframe called second\n",
        "# filter out to only show countries where continent ==  Americas\n",
        "\n",
        "third = second.drop('Puerto Rico')                  # remove the row with Puerto Rico (no axis specified, so default is index (row))\n",
        "# drops the Puerto Rico row for some reason\n",
        "\n",
        "fourth = third.drop('continent', axis = 1)          # remove the label from the column with continent (axis = 1: column)\n",
        "# drops the continent column for some reason by specifying the axis\n",
        "\n",
        "fourth.to_csv('/content/drive/My Drive/result.csv')                         # exports the data into a CSV file named result.csv\n",
        "fourth.to_excel(\"/content/drive/My Drive/result.xlsx\")\n",
        "print (first)\n",
        "print (second)\n",
        "print (third)\n",
        "print (fourth)"
      ],
      "execution_count": 141,
      "outputs": [
        {
          "output_type": "stream",
          "text": [
            "                         continent  gdpPercap_1952  ...  pop_2007      gdp_2007\n",
            "country                                             ...                        \n",
            "Algeria                     Africa     2449.008185  ...  33333216  2.074449e+11\n",
            "Angola                      Africa     3520.610273  ...  12420476  5.958390e+10\n",
            "Benin                       Africa     1062.752200  ...   8078314  1.164315e+10\n",
            "Botswana                    Africa      851.241141  ...   1639131  2.060363e+10\n",
            "Burkina Faso                Africa      543.255241  ...  14326203  1.743546e+10\n",
            "Burundi                     Africa      339.296459  ...   8390505  3.608510e+09\n",
            "Cameroon                    Africa     1172.667655  ...  17696293  3.613752e+10\n",
            "Central African Republic    Africa     1071.310713  ...   4369038  3.084613e+09\n",
            "Chad                        Africa     1178.665927  ...  10238807  1.744758e+10\n",
            "Comoros                     Africa     1102.990936  ...    710960  7.011117e+08\n",
            "Congo Dem. Rep.             Africa      780.542326  ...  64606759  1.793173e+10\n",
            "Congo Rep.                  Africa     2125.621418  ...   3800610  1.380594e+10\n",
            "Cote d'Ivoire               Africa     1388.594732  ...  18013409  2.782622e+10\n",
            "Djibouti                    Africa     2669.529475  ...    496374  1.033690e+09\n",
            "Egypt                       Africa     1418.822445  ...  80264543  4.479709e+11\n",
            "Equatorial Guinea           Africa      375.643123  ...    551201  6.699346e+09\n",
            "Eritrea                     Africa      328.940557  ...   4906585  3.146934e+09\n",
            "Ethiopia                    Africa      362.146280  ...  76511887  5.285484e+10\n",
            "Gabon                       Africa     4293.476475  ...   1454867  1.921368e+10\n",
            "Gambia                      Africa      485.230659  ...   1688359  1.270912e+09\n",
            "Ghana                       Africa      911.298937  ...  22873338  3.036685e+10\n",
            "Guinea                      Africa      510.196492  ...   9947814  9.377349e+09\n",
            "Guinea-Bissau               Africa      299.850319  ...   1472041  8.526529e+08\n",
            "Kenya                       Africa      853.540919  ...  35610177  5.210657e+10\n",
            "Lesotho                     Africa      298.846212  ...   2012649  3.158513e+09\n",
            "Liberia                     Africa      575.572996  ...   3193942  1.323912e+09\n",
            "Libya                       Africa     2387.548060  ...   6036914  7.279009e+10\n",
            "Madagascar                  Africa     1443.011715  ...  19167654  2.002579e+10\n",
            "Malawi                      Africa      369.165080  ...  13327079  1.011992e+10\n",
            "Mali                        Africa      452.336981  ...  12031795  1.254413e+10\n",
            "...                            ...             ...  ...       ...           ...\n",
            "Belgium                     Europe     8343.105127  ...  10392226  3.501412e+11\n",
            "Bosnia and Herzegovina      Europe      973.533195  ...   4552198  3.389703e+10\n",
            "Bulgaria                    Europe     2444.286648  ...   7322858  7.821393e+10\n",
            "Croatia                     Europe     3119.236520  ...   4493312  6.568873e+10\n",
            "Czech Republic              Europe     6876.140250  ...  10228744  2.335561e+11\n",
            "Denmark                     Europe     9692.385245  ...   5468120  1.929066e+11\n",
            "Finland                     Europe     6424.519071  ...   5238460  1.739540e+11\n",
            "France                      Europe     7029.809327  ...  61083916  1.861228e+12\n",
            "Germany                     Europe     7144.114393  ...  82400996  2.650871e+12\n",
            "Greece                      Europe     3530.690067  ...  10706290  2.948342e+11\n",
            "Hungary                     Europe     5263.673816  ...   9956108  1.792990e+11\n",
            "Iceland                     Europe     7267.688428  ...    301931  1.092410e+10\n",
            "Ireland                     Europe     5210.280328  ...   4109086  1.671412e+11\n",
            "Italy                       Europe     4931.404155  ...  58147733  1.661264e+12\n",
            "Montenegro                  Europe     2647.585601  ...    684736  6.336476e+09\n",
            "Netherlands                 Europe     8941.571858  ...  16570613  6.097643e+11\n",
            "Norway                      Europe    10095.421720  ...   4627926  2.284214e+11\n",
            "Poland                      Europe     4029.329699  ...  38518241  5.927928e+11\n",
            "Portugal                    Europe     3068.319867  ...  10642836  2.182808e+11\n",
            "Romania                     Europe     3144.613186  ...  22276056  2.407702e+11\n",
            "Serbia                      Europe     3581.459448  ...  10150265  9.933592e+10\n",
            "Slovak Republic             Europe     5074.659104  ...   5447502  1.017502e+11\n",
            "Slovenia                    Europe     4215.041741  ...   2009245  5.177474e+10\n",
            "Spain                       Europe     3834.034742  ...  40448191  1.165760e+12\n",
            "Sweden                      Europe     8527.844662  ...   9031088  3.057904e+11\n",
            "Switzerland                 Europe    14734.232750  ...   7554661  2.833483e+11\n",
            "Turkey                      Europe     1969.100980  ...  71158647  6.018795e+11\n",
            "United Kingdom              Europe     9979.508487  ...  60776238  2.017969e+12\n",
            "Australia                  Oceania    10039.595640  ...  20434176  7.036584e+11\n",
            "New Zealand                Oceania    10556.575660  ...   4115771  1.036557e+11\n",
            "\n",
            "[142 rows x 38 columns]\n",
            "                    continent  gdpPercap_1952  ...   pop_2007      gdp_2007\n",
            "country                                        ...                         \n",
            "Argentina            Americas     5911.315053  ...   40301927  5.150336e+11\n",
            "Bolivia              Americas     2677.326347  ...    9119152  3.485465e+10\n",
            "Brazil               Americas     2108.944355  ...  190010647  1.722599e+12\n",
            "Canada               Americas    11367.161120  ...   33390141  1.212704e+12\n",
            "Chile                Americas     3939.978789  ...   16284741  2.144967e+11\n",
            "Colombia             Americas     2144.115096  ...   44227550  3.098839e+11\n",
            "Costa Rica           Americas     2627.009471  ...    4133884  3.987157e+10\n",
            "Cuba                 Americas     5586.538780  ...   11416987  1.021604e+11\n",
            "Dominican Republic   Americas     1397.717137  ...    9319622  5.615422e+10\n",
            "Ecuador              Americas     3522.110717  ...   13755680  9.454640e+10\n",
            "El Salvador          Americas     3048.302900  ...    6939688  3.975299e+10\n",
            "Guatemala            Americas     2428.237769  ...   12572928  6.520383e+10\n",
            "Haiti                Americas     1840.366939  ...    8502814  1.021730e+10\n",
            "Honduras             Americas     2194.926204  ...    7483763  2.655487e+10\n",
            "Jamaica              Americas     2898.530881  ...    2780132  2.035301e+10\n",
            "Mexico               Americas     3478.125529  ...  108700891  1.301973e+12\n",
            "Nicaragua            Americas     3112.363948  ...    5675356  1.560338e+10\n",
            "Panama               Americas     2480.380334  ...    3242173  3.180308e+10\n",
            "Paraguay             Americas     1952.308701  ...    6667147  2.782093e+10\n",
            "Peru                 Americas     3758.523437  ...   28674757  2.124486e+11\n",
            "Puerto Rico          Americas     3081.959785  ...    3942491  7.620326e+10\n",
            "Trinidad and Tobago  Americas     3023.271928  ...    1056608  1.902793e+10\n",
            "United States        Americas    13990.482080  ...  301139947  1.293446e+13\n",
            "Uruguay              Americas     5716.766744  ...    3447496  3.658298e+10\n",
            "Venezuela            Americas     7689.799761  ...   26084662  2.977774e+11\n",
            "\n",
            "[25 rows x 38 columns]\n",
            "                    continent  gdpPercap_1952  ...   pop_2007      gdp_2007\n",
            "country                                        ...                         \n",
            "Argentina            Americas     5911.315053  ...   40301927  5.150336e+11\n",
            "Bolivia              Americas     2677.326347  ...    9119152  3.485465e+10\n",
            "Brazil               Americas     2108.944355  ...  190010647  1.722599e+12\n",
            "Canada               Americas    11367.161120  ...   33390141  1.212704e+12\n",
            "Chile                Americas     3939.978789  ...   16284741  2.144967e+11\n",
            "Colombia             Americas     2144.115096  ...   44227550  3.098839e+11\n",
            "Costa Rica           Americas     2627.009471  ...    4133884  3.987157e+10\n",
            "Cuba                 Americas     5586.538780  ...   11416987  1.021604e+11\n",
            "Dominican Republic   Americas     1397.717137  ...    9319622  5.615422e+10\n",
            "Ecuador              Americas     3522.110717  ...   13755680  9.454640e+10\n",
            "El Salvador          Americas     3048.302900  ...    6939688  3.975299e+10\n",
            "Guatemala            Americas     2428.237769  ...   12572928  6.520383e+10\n",
            "Haiti                Americas     1840.366939  ...    8502814  1.021730e+10\n",
            "Honduras             Americas     2194.926204  ...    7483763  2.655487e+10\n",
            "Jamaica              Americas     2898.530881  ...    2780132  2.035301e+10\n",
            "Mexico               Americas     3478.125529  ...  108700891  1.301973e+12\n",
            "Nicaragua            Americas     3112.363948  ...    5675356  1.560338e+10\n",
            "Panama               Americas     2480.380334  ...    3242173  3.180308e+10\n",
            "Paraguay             Americas     1952.308701  ...    6667147  2.782093e+10\n",
            "Peru                 Americas     3758.523437  ...   28674757  2.124486e+11\n",
            "Trinidad and Tobago  Americas     3023.271928  ...    1056608  1.902793e+10\n",
            "United States        Americas    13990.482080  ...  301139947  1.293446e+13\n",
            "Uruguay              Americas     5716.766744  ...    3447496  3.658298e+10\n",
            "Venezuela            Americas     7689.799761  ...   26084662  2.977774e+11\n",
            "\n",
            "[24 rows x 38 columns]\n",
            "                     gdpPercap_1952  gdpPercap_1957  ...   pop_2007      gdp_2007\n",
            "country                                              ...                         \n",
            "Argentina               5911.315053     6856.856212  ...   40301927  5.150336e+11\n",
            "Bolivia                 2677.326347     2127.686326  ...    9119152  3.485465e+10\n",
            "Brazil                  2108.944355     2487.365989  ...  190010647  1.722599e+12\n",
            "Canada                 11367.161120    12489.950060  ...   33390141  1.212704e+12\n",
            "Chile                   3939.978789     4315.622723  ...   16284741  2.144967e+11\n",
            "Colombia                2144.115096     2323.805581  ...   44227550  3.098839e+11\n",
            "Costa Rica              2627.009471     2990.010802  ...    4133884  3.987157e+10\n",
            "Cuba                    5586.538780     6092.174359  ...   11416987  1.021604e+11\n",
            "Dominican Republic      1397.717137     1544.402995  ...    9319622  5.615422e+10\n",
            "Ecuador                 3522.110717     3780.546651  ...   13755680  9.454640e+10\n",
            "El Salvador             3048.302900     3421.523218  ...    6939688  3.975299e+10\n",
            "Guatemala               2428.237769     2617.155967  ...   12572928  6.520383e+10\n",
            "Haiti                   1840.366939     1726.887882  ...    8502814  1.021730e+10\n",
            "Honduras                2194.926204     2220.487682  ...    7483763  2.655487e+10\n",
            "Jamaica                 2898.530881     4756.525781  ...    2780132  2.035301e+10\n",
            "Mexico                  3478.125529     4131.546641  ...  108700891  1.301973e+12\n",
            "Nicaragua               3112.363948     3457.415947  ...    5675356  1.560338e+10\n",
            "Panama                  2480.380334     2961.800905  ...    3242173  3.180308e+10\n",
            "Paraguay                1952.308701     2046.154706  ...    6667147  2.782093e+10\n",
            "Peru                    3758.523437     4245.256698  ...   28674757  2.124486e+11\n",
            "Trinidad and Tobago     3023.271928     4100.393400  ...    1056608  1.902793e+10\n",
            "United States          13990.482080    14847.127120  ...  301139947  1.293446e+13\n",
            "Uruguay                 5716.766744     6150.772969  ...    3447496  3.658298e+10\n",
            "Venezuela               7689.799761     9802.466526  ...   26084662  2.977774e+11\n",
            "\n",
            "[24 rows x 37 columns]\n"
          ],
          "name": "stdout"
        }
      ]
    },
    {
      "cell_type": "code",
      "metadata": {
        "id": "QrYHZ_7v6LFp",
        "colab_type": "code",
        "colab": {}
      },
      "source": [
        ""
      ],
      "execution_count": 0,
      "outputs": []
    },
    {
      "cell_type": "markdown",
      "metadata": {
        "id": "TkZCzYDX6LFt",
        "colab_type": "text"
      },
      "source": [
        "## Inserting data\n",
        "\n",
        "Inserting column data into your DataFrames is straightforward. Just add it in:"
      ]
    },
    {
      "cell_type": "code",
      "metadata": {
        "id": "eeQjJQ_E6LFu",
        "colab_type": "code",
        "colab": {}
      },
      "source": [
        ""
      ],
      "execution_count": 0,
      "outputs": []
    },
    {
      "cell_type": "code",
      "metadata": {
        "id": "x4q0O-A66LFv",
        "colab_type": "code",
        "colab": {}
      },
      "source": [
        ""
      ],
      "execution_count": 0,
      "outputs": []
    },
    {
      "cell_type": "markdown",
      "metadata": {
        "id": "_KUW2UQo6LFw",
        "colab_type": "text"
      },
      "source": [
        "### <font color=\"red\">Exercise 5: European data analysis\n",
        "\n",
        "Import the GDP data for Europe. Write an expression to select each of the following:\n",
        "\n",
        "* GDP per capita for all countries in 1982.\n",
        "* GDP per capita for Denmark for all years.\n",
        "* GDP per capita for all countries for years after 1985.\n",
        "* GDP per capita for each country in 2007 as a multiple of GDP per capita for that country in 1952. Show a DataFrame with 1952, 2007, and \"2007 vs. 1952\", for example:"
      ]
    },
    {
      "cell_type": "markdown",
      "metadata": {
        "id": "wXDZxwJP6LFx",
        "colab_type": "raw"
      },
      "source": [
        "                        gdpPercap_1952  gdpPercap_2007  2007/1952\n",
        "country                                                          \n",
        "Albania                    1601.056136     5937.029526   3.708196\n",
        "Austria                    6137.076492    36126.492700   5.886596\n",
        "Belgium                    8343.105127    33692.605080   4.038377\n",
        "Bosnia and Herzegovina      973.533195     7446.298803   7.648736\n",
        "Bulgaria                   2444.286648    10680.792820   4.369697"
      ]
    },
    {
      "cell_type": "code",
      "metadata": {
        "id": "DvZtPUlr6LFy",
        "colab_type": "code",
        "colab": {}
      },
      "source": [
        "#europe = pd.read_csv(\"gdp_europe.csv\", index_col=\"country\")\n",
        "europe = data_europe"
      ],
      "execution_count": 0,
      "outputs": []
    },
    {
      "cell_type": "code",
      "metadata": {
        "id": "0PsUucyD6LF0",
        "colab_type": "code",
        "colab": {}
      },
      "source": [
        ""
      ],
      "execution_count": 0,
      "outputs": []
    },
    {
      "cell_type": "code",
      "metadata": {
        "id": "3RvYciZH6LF3",
        "colab_type": "code",
        "colab": {}
      },
      "source": [
        ""
      ],
      "execution_count": 0,
      "outputs": []
    },
    {
      "cell_type": "code",
      "metadata": {
        "id": "6JPZFJg26LF7",
        "colab_type": "code",
        "colab": {}
      },
      "source": [
        ""
      ],
      "execution_count": 0,
      "outputs": []
    },
    {
      "cell_type": "code",
      "metadata": {
        "id": "-k8KOfIl6LF9",
        "colab_type": "code",
        "colab": {}
      },
      "source": [
        ""
      ],
      "execution_count": 0,
      "outputs": []
    },
    {
      "cell_type": "code",
      "metadata": {
        "id": "Y7cAzbmN6LF-",
        "colab_type": "code",
        "colab": {}
      },
      "source": [
        ""
      ],
      "execution_count": 0,
      "outputs": []
    }
  ]
}